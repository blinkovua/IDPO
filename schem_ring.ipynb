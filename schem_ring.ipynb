{
 "cells": [
  {
   "cell_type": "code",
   "execution_count": 1,
   "id": "be02d2c7",
   "metadata": {},
   "outputs": [],
   "source": [
    "from IPython.display import display, Image\n",
    "from pprint import pprint\n",
    "from itertools import chain\n",
    "\n",
    "from sympy import Function, Symbol, symbols\n",
    "import pyx\n",
    "\n",
    "from ginv import *\n",
    "sympy.init_printing()"
   ]
  },
  {
   "cell_type": "code",
   "execution_count": 2,
   "id": "46658a7e",
   "metadata": {},
   "outputs": [],
   "source": [
    "Monom.cmp = Monom.POTlex"
   ]
  },
  {
   "cell_type": "code",
   "execution_count": 3,
   "id": "13711fdc",
   "metadata": {},
   "outputs": [],
   "source": [
    "h, tau, nu = sympy.symbols('h, tau, nu', real=True)"
   ]
  },
  {
   "cell_type": "code",
   "execution_count": 4,
   "id": "20a9b2a3",
   "metadata": {},
   "outputs": [],
   "source": [
    "var = 'j, k'.split(', ')\n",
    "fun = 'ux, uy, u'.split(', ')\n",
    "Monom.init(var, fun)\n",
    "T = PolySchem.T\n",
    "var, fun = PolySchem.init()\n",
    "j, k = var\n",
    "ux, uy, u = fun"
   ]
  },
  {
   "cell_type": "code",
   "execution_count": 5,
   "id": "af0e0e90",
   "metadata": {},
   "outputs": [
    {
     "data": {
      "text/plain": [
       "[[[0;0 0], -1/(2*h)], [[2;2 0], 1/(2*h)]]"
      ]
     },
     "execution_count": 5,
     "metadata": {},
     "output_type": "execute_result"
    }
   ],
   "source": [
    "(T(u, j, 2) - T(ux))/(2*h)"
   ]
  },
  {
   "cell_type": "markdown",
   "id": "796c70bb",
   "metadata": {},
   "source": [
    "Запишем уравнение Лапласа $u_{xx}+u_{yy}=0$ в дивергентной форме, где\n",
    "\\begin{eqnarray*}\n",
    " \\oint \\limits_{\\Gamma} \\!- u_y dx + u_x dy = 0\n",
    "  \\label{ch4.1:yyy1}\n",
    "\\end{eqnarray*}\n",
    "для любого замкнутого контура $\\Gamma$. Для перехода к дискретной\n",
    "формулировке сопоставим $u(x, y) = u(x_j,y_k)$ и выберем в качестве\n",
    "базового объема контур показанный на рис"
   ]
  },
  {
   "cell_type": "code",
   "execution_count": 6,
   "id": "df4bd98e",
   "metadata": {},
   "outputs": [
    {
     "data": {
      "image/png": "[encoded data removed]",
      "text/plain": [
       "<IPython.core.display.Image object>"
      ]
     },
     "execution_count": 6,
     "metadata": {
      "image/png": {
       "width": 250
      }
     },
     "output_type": "execute_result"
    }
   ],
   "source": [
    "Image(\"./stencil2D3x3y.png\", width=250)"
   ]
  },
  {
   "cell_type": "code",
   "execution_count": 7,
   "id": "58c28267",
   "metadata": {},
   "outputs": [
    {
     "name": "stdout",
     "output_type": "stream",
     "text": [
      "prolong <= uy*k\n",
      "T(uy, k)\n",
      "prolong <= ux*j\n",
      "T(ux, j)\n",
      "prolong <= ux*j**2*k\n",
      "ux*j**2*k\n",
      "T(ux, k)\n",
      "prolongAll\n",
      "ux*j*k\n",
      "T(uy, j, 2)\n",
      "prolongAll\n",
      "T(uy, j, k)\n",
      "prolongAll\n",
      "uy*j**2*k\n",
      "T(u, j, 4, k, 2)\n",
      "prolongAll\n",
      "crit1: 0\n",
      "crit2: 0\n",
      " time: 0.03 sec\n",
      "    count: 6\n",
      "reduction: 7\n",
      "       HP: 6s - 6\n"
     ]
    }
   ],
   "source": [
    "laplace = Forest(Janet)\n",
    "res = ginvMin((\n",
    "T(ux, j)*2*h - (T(u, j, 2) - T(u)),\\\n",
    "T(uy, k)*2*h - (T(u, k, 2) - T(u)),\\\n",
    "-(T(uy, j) - T(uy, j, k, 2))*2*h +\\\n",
    " (T(ux, j, 2, k) - T(ux, k))*2*h), \\\n",
    "laplace, level=1)\n",
    "print(f\"crit1: {res[1]}\")\n",
    "print(f\"crit2: {res[2]}\")\n",
    "print(f\" time: {res[0]:.2f} sec\")\n",
    "print(f\"    count: {laplace.count()}\")\n",
    "print(f\"reduction: {laplace.reduction()}\")\n",
    "print(f\"       HP: {laplace.HP()}\")"
   ]
  },
  {
   "cell_type": "code",
   "execution_count": 8,
   "id": "79166d51",
   "metadata": {},
   "outputs": [
    {
     "name": "stdout",
     "output_type": "stream",
     "text": [
      "T(ux, k)*(-2*h) + T(uy, j)*(-2*h) + T(u, j, 3, k) + T(u, j, k, 3) + T(u, j, k)*(-2)\n",
      "T(ux, j)*2*h + T(u, j, 2)*(-1) + T(u)\n",
      "T(uy, k)*2*h + T(u, k, 2)*(-1) + T(u)\n",
      "T(uy, j, 2)*(-2*h) + T(u, j, 4, k) + T(u, j, 2, k, 3) + T(u, j, 2, k)*(-3) + T(u, k)\n",
      "T(u, j, 4, k, 2)*(-1) + T(u, j, 2, k, 4)*(-1) + T(u, j, 2, k, 2)*4 + T(u, j, 2)*(-1) + T(u, k, 2)*(-1)\n"
     ]
    }
   ],
   "source": [
    "for w in laplace.GB():\n",
    "    print(w.poly)"
   ]
  },
  {
   "cell_type": "code",
   "execution_count": 9,
   "id": "10508650",
   "metadata": {},
   "outputs": [
    {
     "name": "stdout",
     "output_type": "stream",
     "text": [
      "T(u, j, 4, k, 2)*(-1) + T(u, j, 2, k, 4)*(-1) + T(u, j, 2, k, 2)*4 + T(u, j, 2)*(-1) + T(u, k, 2)*(-1)\n"
     ]
    }
   ],
   "source": [
    "for w in laplace[-1].GB():\n",
    "    print(w.poly)"
   ]
  },
  {
   "cell_type": "code",
   "execution_count": 10,
   "id": "ac359129",
   "metadata": {},
   "outputs": [
    {
     "data": {
      "image/png": "[encoded data removed]",
      "text/latex": [
       "$\\displaystyle 4 {u}_{{j} + 2\\, {k} + 2} - {u}_{{j} + 2\\, {k} + 4} - {u}_{{j} + 2\\, {k}} - {u}_{{j} + 4\\, {k} + 2} - {u}_{{j}\\, {k} + 2}$"
      ],
      "text/plain": [
       "4⋅{u}_{{j} + 2\\, {k} + 2} - {u}_{{j} + 2\\, {k} + 4} - {u}_{{j} + 2\\, {k}} - {u}_{{j} + 4\\, {k} + 2} -\n",
       " {u}_{{j}\\, {k} + 2}"
      ]
     },
     "metadata": {},
     "output_type": "display_data"
    },
    {
     "data": {
      "image/png": "[encoded data removed]",
      "image/svg+xml": [
       "<?xml version=\"1.0\" encoding=\"utf-8\"?>\n",
       "<svg xmlns=\"http://www.w3.org/2000/svg\" fill=\"none\" version=\"1.1\" viewBox=\"-10.0909 -114.386 133.568 125.827\" x=\"-10.0909pt\" y=\"-114.386pt\" width=\"133.568pt\" height=\"125.827pt\" stroke-width=\"0.566929\" stroke-miterlimit=\"10.000000\">\n",
       " <g transform=\"matrix(1.000000,0.000000,0.000000,1.000000,113.385827,-56.692913)\">\n",
       "  <path d=\"M-7.90014 9.24531M0.363264 5.94569C0.60715 5.94569 0.865381 5.94569 0.865381 5.65876C0.865381 5.37184 0.60715 5.37184 0.363264 5.37184L-7.39803 5.37184C-7.64191 5.37184 -7.90014 5.37184 -7.90014 5.65876C-7.90014 5.94569 -7.64191 5.94569 -7.39803 5.94569ZM-7.39803 5.94569\" fill=\"black\"/>\n",
       "  <path d=\"M3.37281 9.24531M6.19901 0.0494022C6.19901 -0.28056 6.19901 -0.294907 5.91209 -0.294907C5.56778 0.0924408 4.85047 0.62325 3.37281 0.62325L3.37281 1.03929C3.70277 1.03929 4.42008 1.03929 5.20912 0.666289L5.20912 8.14066C5.20912 8.65712 5.16608 8.82927 3.90362 8.82927L3.45889 8.82927L3.45889 9.24531C3.84623 9.21662 5.23781 9.21662 5.71124 9.21662C6.18466 9.21662 7.5619 9.21662 7.94925 9.24531L7.94925 8.82927L7.50451 8.82927C6.24205 8.82927 6.19901 8.65712 6.19901 8.14066ZM6.19901 8.14066\" fill=\"black\"/>\n",
       " </g>\n",
       " <g transform=\"matrix(1.000000,0.000000,0.000000,1.000000,56.692913,-113.385827)\">\n",
       "  <path d=\"M-7.90014 9.24531M0.363264 5.94569C0.60715 5.94569 0.865381 5.94569 0.865381 5.65876C0.865381 5.37184 0.60715 5.37184 0.363264 5.37184L-7.39803 5.37184C-7.64191 5.37184 -7.90014 5.37184 -7.90014 5.65876C-7.90014 5.94569 -7.64191 5.94569 -7.39803 5.94569ZM-7.39803 5.94569\" fill=\"black\"/>\n",
       "  <path d=\"M3.37281 9.24531M6.19901 0.0494022C6.19901 -0.28056 6.19901 -0.294907 5.91209 -0.294907C5.56778 0.0924408 4.85047 0.62325 3.37281 0.62325L3.37281 1.03929C3.70277 1.03929 4.42008 1.03929 5.20912 0.666289L5.20912 8.14066C5.20912 8.65712 5.16608 8.82927 3.90362 8.82927L3.45889 8.82927L3.45889 9.24531C3.84623 9.21662 5.23781 9.21662 5.71124 9.21662C6.18466 9.21662 7.5619 9.21662 7.94925 9.24531L7.94925 8.82927L7.50451 8.82927C6.24205 8.82927 6.19901 8.65712 6.19901 8.14066ZM6.19901 8.14066\" fill=\"black\"/>\n",
       " </g>\n",
       " <g transform=\"matrix(1.000000,0.000000,0.000000,1.000000,56.692913,-56.692913)\">\n",
       "  <path d=\"M-3.12443 9.24531M1.6672 -0.0940598C1.6672 -0.366637 1.6672 -0.438368 1.46635 -0.438368C1.35158 -0.438368 1.30854 -0.438368 1.19377 -0.266214L-3.12443 6.43346L-3.12443 6.8495L0.648618 6.8495L0.648618 8.155C0.648618 8.68581 0.619925 8.82927 -0.427347 8.82927L-0.714271 8.82927L-0.714271 9.24531C-0.384308 9.21662 0.749041 9.21662 1.15073 9.21662C1.55243 9.21662 2.70012 9.21662 3.03009 9.24531L3.03009 8.82927L2.74316 8.82927C1.71024 8.82927 1.6672 8.68581 1.6672 8.155L1.6672 6.8495L3.11616 6.8495L3.11616 6.43346L1.6672 6.43346ZM1.6672 6.43346M0.720349 1.02494L0.720349 6.43346L-2.76578 6.43346ZM-2.76578 6.43346\" fill=\"black\"/>\n",
       " </g>\n",
       " <g transform=\"matrix(1.000000,0.000000,0.000000,1.000000,56.692913,-0.000000)\">\n",
       "  <path d=\"M-7.90014 9.24531M0.363264 5.94569C0.60715 5.94569 0.865381 5.94569 0.865381 5.65876C0.865381 5.37184 0.60715 5.37184 0.363264 5.37184L-7.39803 5.37184C-7.64191 5.37184 -7.90014 5.37184 -7.90014 5.65876C-7.90014 5.94569 -7.64191 5.94569 -7.39803 5.94569ZM-7.39803 5.94569\" fill=\"black\"/>\n",
       "  <path d=\"M3.37281 9.24531M6.19901 0.0494022C6.19901 -0.28056 6.19901 -0.294907 5.91209 -0.294907C5.56778 0.0924408 4.85047 0.62325 3.37281 0.62325L3.37281 1.03929C3.70277 1.03929 4.42008 1.03929 5.20912 0.666289L5.20912 8.14066C5.20912 8.65712 5.16608 8.82927 3.90362 8.82927L3.45889 8.82927L3.45889 9.24531C3.84623 9.21662 5.23781 9.21662 5.71124 9.21662C6.18466 9.21662 7.5619 9.21662 7.94925 9.24531L7.94925 8.82927L7.50451 8.82927C6.24205 8.82927 6.19901 8.65712 6.19901 8.14066ZM6.19901 8.14066\" fill=\"black\"/>\n",
       " </g>\n",
       " <g transform=\"matrix(1.000000,0.000000,0.000000,1.000000,0.000000,-56.692913)\">\n",
       "  <path d=\"M-7.90014 9.24531M0.363264 5.94569C0.60715 5.94569 0.865381 5.94569 0.865381 5.65876C0.865381 5.37184 0.60715 5.37184 0.363264 5.37184L-7.39803 5.37184C-7.64191 5.37184 -7.90014 5.37184 -7.90014 5.65876C-7.90014 5.94569 -7.64191 5.94569 -7.39803 5.94569ZM-7.39803 5.94569\" fill=\"black\"/>\n",
       "  <path d=\"M3.37281 9.24531M6.19901 0.0494022C6.19901 -0.28056 6.19901 -0.294907 5.91209 -0.294907C5.56778 0.0924408 4.85047 0.62325 3.37281 0.62325L3.37281 1.03929C3.70277 1.03929 4.42008 1.03929 5.20912 0.666289L5.20912 8.14066C5.20912 8.65712 5.16608 8.82927 3.90362 8.82927L3.45889 8.82927L3.45889 9.24531C3.84623 9.21662 5.23781 9.21662 5.71124 9.21662C6.18466 9.21662 7.5619 9.21662 7.94925 9.24531L7.94925 8.82927L7.50451 8.82927C6.24205 8.82927 6.19901 8.65712 6.19901 8.14066ZM6.19901 8.14066\" fill=\"black\"/>\n",
       " </g>\n",
       "</svg>\n"
      ],
      "text/plain": [
       "<pyx.canvas.canvas at 0x7f0ccb11a790>"
      ]
     },
     "metadata": {},
     "output_type": "display_data"
    }
   ],
   "source": [
    "for w in laplace[-1].GB():\n",
    "    display(sum(Symbol(m.T_latex())*c for m, c in w.poly))\n",
    "    \n",
    "    frm, l = [pyx.text.halign.boxcenter, pyx.text.valign.top], 1.\n",
    "    pyx.unit.set(wscale=1)\n",
    "    canvas = pyx.canvas.canvas()\n",
    "    for m, c in w.poly:\n",
    "        canvas.text(m[0]*l, m[1]*l, fr\"\\Large${c}$\", frm)\n",
    "    display(canvas)"
   ]
  },
  {
   "cell_type": "code",
   "execution_count": 11,
   "id": "ac52b881",
   "metadata": {
    "scrolled": false
   },
   "outputs": [
    {
     "name": "stdout",
     "output_type": "stream",
     "text": [
      "prolong <= uy*k\n",
      "T(uy, k)\n",
      "prolong <= ux*j\n",
      "T(ux, j)\n",
      "prolong <= ux*j**2*k\n",
      "ux*j**2*k\n",
      "T(u, j, 2, k)\n",
      "prolongAll\n",
      "crit1: 0\n",
      "crit2: 0\n",
      " time: 0.01 sec\n",
      "    count: 3\n",
      "reduction: 5\n",
      "       HP: 5s + 2\n"
     ]
    }
   ],
   "source": [
    "laplace = Forest(Janet)\n",
    "res = ginvMin((\n",
    "(T(ux, j) + T(ux))/2*h - (T(u, j) - T(u)),\\\n",
    "(T(uy, k) + T(uy))/2*h - (T(u, k) - T(u)),\\\n",
    "-(T(uy, j) - T(uy, j, k, 2))*2*h +\\\n",
    " (T(ux, j, 2, k) - T(ux, k))*2*h), \\\n",
    "laplace, level=1)\n",
    "print(f\"crit1: {res[1]}\")\n",
    "print(f\"crit2: {res[2]}\")\n",
    "print(f\" time: {res[0]:.2f} sec\")\n",
    "print(f\"    count: {laplace.count()}\")\n",
    "print(f\"reduction: {laplace.reduction()}\")\n",
    "print(f\"       HP: {laplace.HP()}\")"
   ]
  },
  {
   "cell_type": "code",
   "execution_count": 12,
   "id": "82d62911",
   "metadata": {},
   "outputs": [
    {
     "data": {
      "image/png": "[encoded data removed]",
      "text/latex": [
       "$\\displaystyle - 4 {u}_{{j} + 1\\, {k} + 1} + {u}_{{j} + 1\\, {k} + 2} + {u}_{{j} + 1\\, {k}} + {u}_{{j} + 2\\, {k} + 1} + {u}_{{j}\\, {k} + 1}$"
      ],
      "text/plain": [
       "-4⋅{u}_{{j} + 1\\, {k} + 1} + {u}_{{j} + 1\\, {k} + 2} + {u}_{{j} + 1\\, {k}} + {u}_{{j} + 2\\, {k} + 1} \n",
       "+ {u}_{{j}\\, {k} + 1}"
      ]
     },
     "metadata": {},
     "output_type": "display_data"
    },
    {
     "data": {
      "image/png": "[encoded data removed]",
      "image/svg+xml": [
       "<?xml version=\"1.0\" encoding=\"utf-8\"?>\n",
       "<svg xmlns=\"http://www.w3.org/2000/svg\" fill=\"none\" version=\"1.1\" viewBox=\"-4.51178 -57.6929 65.7165 67.9382\" x=\"-4.51178pt\" y=\"-57.6929pt\" width=\"65.7165pt\" height=\"67.9382pt\" stroke-width=\"0.566929\" stroke-miterlimit=\"10.000000\">\n",
       " <g transform=\"matrix(1.000000,0.000000,0.000000,1.000000,56.692913,-28.346457)\">\n",
       "  <path d=\"M-2.20628 9.24531M0.619925 0.0494022C0.619925 -0.28056 0.619925 -0.294907 0.333001 -0.294907C-0.0113072 0.0924408 -0.728617 0.62325 -2.20628 0.62325L-2.20628 1.03929C-1.87631 1.03929 -1.159 1.03929 -0.369962 0.666289L-0.369962 8.14066C-0.369962 8.65712 -0.413001 8.82927 -1.67547 8.82927L-2.1202 8.82927L-2.1202 9.24531C-1.73285 9.21662 -0.34127 9.21662 0.132155 9.21662C0.605579 9.21662 1.98281 9.21662 2.37016 9.24531L2.37016 8.82927L1.92543 8.82927C0.662964 8.82927 0.619925 8.65712 0.619925 8.14066ZM0.619925 8.14066\" fill=\"black\"/>\n",
       " </g>\n",
       " <g transform=\"matrix(1.000000,0.000000,0.000000,1.000000,28.346457,-56.692913)\">\n",
       "  <path d=\"M-2.20628 9.24531M0.619925 0.0494022C0.619925 -0.28056 0.619925 -0.294907 0.333001 -0.294907C-0.0113072 0.0924408 -0.728617 0.62325 -2.20628 0.62325L-2.20628 1.03929C-1.87631 1.03929 -1.159 1.03929 -0.369962 0.666289L-0.369962 8.14066C-0.369962 8.65712 -0.413001 8.82927 -1.67547 8.82927L-2.1202 8.82927L-2.1202 9.24531C-1.73285 9.21662 -0.34127 9.21662 0.132155 9.21662C0.605579 9.21662 1.98281 9.21662 2.37016 9.24531L2.37016 8.82927L1.92543 8.82927C0.662964 8.82927 0.619925 8.65712 0.619925 8.14066ZM0.619925 8.14066\" fill=\"black\"/>\n",
       " </g>\n",
       " <g transform=\"matrix(1.000000,0.000000,0.000000,1.000000,28.346457,-28.346457)\">\n",
       "  <path d=\"M-7.90014 9.24531M0.363264 5.94569C0.60715 5.94569 0.865381 5.94569 0.865381 5.65876C0.865381 5.37184 0.60715 5.37184 0.363264 5.37184L-7.39803 5.37184C-7.64191 5.37184 -7.90014 5.37184 -7.90014 5.65876C-7.90014 5.94569 -7.64191 5.94569 -7.39803 5.94569ZM-7.39803 5.94569\" fill=\"black\"/>\n",
       "  <path d=\"M2.45465 9.24531M7.24628 -0.0940598C7.24628 -0.366637 7.24628 -0.438368 7.04544 -0.438368C6.93067 -0.438368 6.88763 -0.438368 6.77286 -0.266214L2.45465 6.43346L2.45465 6.8495L6.2277 6.8495L6.2277 8.155C6.2277 8.68581 6.19901 8.82927 5.15174 8.82927L4.86481 8.82927L4.86481 9.24531C5.19478 9.21662 6.32813 9.21662 6.72982 9.21662C7.13151 9.21662 8.27921 9.21662 8.60917 9.24531L8.60917 8.82927L8.32225 8.82927C7.28932 8.82927 7.24628 8.68581 7.24628 8.155L7.24628 6.8495L8.69525 6.8495L8.69525 6.43346L7.24628 6.43346ZM7.24628 6.43346M6.29943 1.02494L6.29943 6.43346L2.81331 6.43346ZM2.81331 6.43346\" fill=\"black\"/>\n",
       " </g>\n",
       " <g transform=\"matrix(1.000000,0.000000,0.000000,1.000000,28.346457,-0.000000)\">\n",
       "  <path d=\"M-2.20628 9.24531M0.619925 0.0494022C0.619925 -0.28056 0.619925 -0.294907 0.333001 -0.294907C-0.0113072 0.0924408 -0.728617 0.62325 -2.20628 0.62325L-2.20628 1.03929C-1.87631 1.03929 -1.159 1.03929 -0.369962 0.666289L-0.369962 8.14066C-0.369962 8.65712 -0.413001 8.82927 -1.67547 8.82927L-2.1202 8.82927L-2.1202 9.24531C-1.73285 9.21662 -0.34127 9.21662 0.132155 9.21662C0.605579 9.21662 1.98281 9.21662 2.37016 9.24531L2.37016 8.82927L1.92543 8.82927C0.662964 8.82927 0.619925 8.65712 0.619925 8.14066ZM0.619925 8.14066\" fill=\"black\"/>\n",
       " </g>\n",
       " <g transform=\"matrix(1.000000,0.000000,0.000000,1.000000,0.000000,-28.346457)\">\n",
       "  <path d=\"M-2.20628 9.24531M0.619925 0.0494022C0.619925 -0.28056 0.619925 -0.294907 0.333001 -0.294907C-0.0113072 0.0924408 -0.728617 0.62325 -2.20628 0.62325L-2.20628 1.03929C-1.87631 1.03929 -1.159 1.03929 -0.369962 0.666289L-0.369962 8.14066C-0.369962 8.65712 -0.413001 8.82927 -1.67547 8.82927L-2.1202 8.82927L-2.1202 9.24531C-1.73285 9.21662 -0.34127 9.21662 0.132155 9.21662C0.605579 9.21662 1.98281 9.21662 2.37016 9.24531L2.37016 8.82927L1.92543 8.82927C0.662964 8.82927 0.619925 8.65712 0.619925 8.14066ZM0.619925 8.14066\" fill=\"black\"/>\n",
       " </g>\n",
       "</svg>\n"
      ],
      "text/plain": [
       "<pyx.canvas.canvas at 0x7f0cf1a0ed10>"
      ]
     },
     "metadata": {},
     "output_type": "display_data"
    }
   ],
   "source": [
    "for w in laplace[-1].GB():\n",
    "    display(sum(Symbol(m.T_latex())*c for m, c in w.poly))\n",
    "    \n",
    "    frm, l = [pyx.text.halign.boxcenter, pyx.text.valign.top], 1.\n",
    "    pyx.unit.set(wscale=1)\n",
    "    canvas = pyx.canvas.canvas()\n",
    "    for m, c in w.poly:\n",
    "        canvas.text(m[0]*l, m[1]*l, fr\"\\Large${c}$\", frm)\n",
    "    display(canvas)"
   ]
  },
  {
   "cell_type": "markdown",
   "id": "b5110bf7",
   "metadata": {},
   "source": [
    "В результате последнее из уравнений является искомой\n",
    "разностной схемой записанной в одинарных узлах\n",
    "\\begin{eqnarray*}\n",
    " \\frac{u_{j+1 \\, k} - 2 u_{j \\, k} + u_{j - 1 \\, k}}{4\n",
    "h^2}\n",
    " +\\frac{u_{j \\, k+1} - 2 u_{j \\, k} + u_{j \\, k-1}}{4\n",
    "h^2}=0.\n",
    " \\end{eqnarray*}"
   ]
  },
  {
   "cell_type": "code",
   "execution_count": 13,
   "id": "eb16bb83",
   "metadata": {},
   "outputs": [
    {
     "data": {
      "image/png": "[encoded data removed]",
      "text/plain": [
       "<IPython.core.display.Image object>"
      ]
     },
     "execution_count": 13,
     "metadata": {
      "image/png": {
       "width": 200
      }
     },
     "output_type": "execute_result"
    }
   ],
   "source": [
    "Image(\"./stencil2D2x2y.png\", width=200)"
   ]
  },
  {
   "cell_type": "code",
   "execution_count": 14,
   "id": "280598a1",
   "metadata": {},
   "outputs": [
    {
     "name": "stdout",
     "output_type": "stream",
     "text": [
      "prolong <= uy*k\n",
      "T(uy, k)\n",
      "prolong <= ux*j\n",
      "T(ux, j)\n",
      "prolong <= ux*j*k\n",
      "ux*j*k\n",
      "T(ux, k)\n",
      "prolongAll\n",
      "ux*j*k\n",
      "T(uy, j, 2)\n",
      "prolongAll\n",
      "T(uy, j, k)\n",
      "prolongAll\n",
      "uy*j**2*k\n",
      "T(u, j, 3, k, 2)\n",
      "prolongAll\n",
      "crit1: 0\n",
      "crit2: 0\n",
      " time: 0.03 sec\n",
      "    count: 6\n",
      "reduction: 11\n",
      "       HP: 5s - 2\n"
     ]
    }
   ],
   "source": [
    "laplace = Forest(Janet)\n",
    "res = ginvMin((\n",
    "T(ux, j)*2*h - (T(u, j, 2) - T(u)),\\\n",
    "T(uy, k)*2*h - (T(u, k, 2) - T(u)),\\\n",
    "-((T(uy) + T(uy, j))/2 - (T(uy, j, k) + T(uy, k))/2)*h +\\\n",
    " ((T(ux, j) + T(ux, j, k))/2 - (T(ux, k) + T(ux))/2)*h), \\\n",
    "laplace, level=1)\n",
    "print(f\"crit1: {res[1]}\")\n",
    "print(f\"crit2: {res[2]}\")\n",
    "print(f\" time: {res[0]:.2f} sec\")\n",
    "print(f\"    count: {laplace.count()}\")\n",
    "print(f\"reduction: {laplace.reduction()}\")\n",
    "print(f\"       HP: {laplace.HP()}\")"
   ]
  },
  {
   "cell_type": "code",
   "execution_count": 15,
   "id": "51db6078",
   "metadata": {},
   "outputs": [
    {
     "data": {
      "image/png": "[encoded data removed]",
      "text/latex": [
       "$\\displaystyle 2 {u}_{{j} + 1\\, {k} + 1} + 2 {u}_{{j} + 1\\, {k} + 2} - {u}_{{j} + 1\\, {k} + 3} - {u}_{{j} + 1\\, {k}} + 2 {u}_{{j} + 2\\, {k} + 1} + 2 {u}_{{j} + 2\\, {k} + 2} - {u}_{{j} + 2\\, {k} + 3} - {u}_{{j} + 2\\, {k}} - {u}_{{j} + 3\\, {k} + 1} - {u}_{{j} + 3\\, {k} + 2} - {u}_{{j}\\, {k} + 1} - {u}_{{j}\\, {k} + 2}$"
      ],
      "text/plain": [
       "2⋅{u}_{{j} + 1\\, {k} + 1} + 2⋅{u}_{{j} + 1\\, {k} + 2} - {u}_{{j} + 1\\, {k} + 3} - {u}_{{j} + 1\\, {k}}\n",
       " + 2⋅{u}_{{j} + 2\\, {k} + 1} + 2⋅{u}_{{j} + 2\\, {k} + 2} - {u}_{{j} + 2\\, {k} + 3} - {u}_{{j} + 2\\, {\n",
       "k}} - {u}_{{j} + 3\\, {k} + 1} - {u}_{{j} + 3\\, {k} + 2} - {u}_{{j}\\, {k} + 1} - {u}_{{j}\\, {k} + 2}"
      ]
     },
     "metadata": {},
     "output_type": "display_data"
    },
    {
     "data": {
      "image/png": "[encoded data removed]",
      "image/svg+xml": [
       "<?xml version=\"1.0\" encoding=\"utf-8\"?>\n",
       "<svg xmlns=\"http://www.w3.org/2000/svg\" fill=\"none\" version=\"1.1\" viewBox=\"-10.0909 -86.0394 105.221 97.4802\" x=\"-10.0909pt\" y=\"-86.0394pt\" width=\"105.221pt\" height=\"97.4802pt\" stroke-width=\"0.566929\" stroke-miterlimit=\"10.000000\">\n",
       " <g transform=\"matrix(1.000000,0.000000,0.000000,1.000000,85.039370,-56.692913)\">\n",
       "  <path d=\"M-7.90014 9.24531M0.363264 5.94569C0.60715 5.94569 0.865381 5.94569 0.865381 5.65876C0.865381 5.37184 0.60715 5.37184 0.363264 5.37184L-7.39803 5.37184C-7.64191 5.37184 -7.90014 5.37184 -7.90014 5.65876C-7.90014 5.94569 -7.64191 5.94569 -7.39803 5.94569ZM-7.39803 5.94569\" fill=\"black\"/>\n",
       "  <path d=\"M3.37281 9.24531M6.19901 0.0494022C6.19901 -0.28056 6.19901 -0.294907 5.91209 -0.294907C5.56778 0.0924408 4.85047 0.62325 3.37281 0.62325L3.37281 1.03929C3.70277 1.03929 4.42008 1.03929 5.20912 0.666289L5.20912 8.14066C5.20912 8.65712 5.16608 8.82927 3.90362 8.82927L3.45889 8.82927L3.45889 9.24531C3.84623 9.21662 5.23781 9.21662 5.71124 9.21662C6.18466 9.21662 7.5619 9.21662 7.94925 9.24531L7.94925 8.82927L7.50451 8.82927C6.24205 8.82927 6.19901 8.65712 6.19901 8.14066ZM6.19901 8.14066\" fill=\"black\"/>\n",
       " </g>\n",
       " <g transform=\"matrix(1.000000,0.000000,0.000000,1.000000,85.039370,-28.346457)\">\n",
       "  <path d=\"M-7.90014 9.24531M0.363264 5.94569C0.60715 5.94569 0.865381 5.94569 0.865381 5.65876C0.865381 5.37184 0.60715 5.37184 0.363264 5.37184L-7.39803 5.37184C-7.64191 5.37184 -7.90014 5.37184 -7.90014 5.65876C-7.90014 5.94569 -7.64191 5.94569 -7.39803 5.94569ZM-7.39803 5.94569\" fill=\"black\"/>\n",
       "  <path d=\"M3.37281 9.24531M6.19901 0.0494022C6.19901 -0.28056 6.19901 -0.294907 5.91209 -0.294907C5.56778 0.0924408 4.85047 0.62325 3.37281 0.62325L3.37281 1.03929C3.70277 1.03929 4.42008 1.03929 5.20912 0.666289L5.20912 8.14066C5.20912 8.65712 5.16608 8.82927 3.90362 8.82927L3.45889 8.82927L3.45889 9.24531C3.84623 9.21662 5.23781 9.21662 5.71124 9.21662C6.18466 9.21662 7.5619 9.21662 7.94925 9.24531L7.94925 8.82927L7.50451 8.82927C6.24205 8.82927 6.19901 8.65712 6.19901 8.14066ZM6.19901 8.14066\" fill=\"black\"/>\n",
       " </g>\n",
       " <g transform=\"matrix(1.000000,0.000000,0.000000,1.000000,56.692913,-85.039370)\">\n",
       "  <path d=\"M-7.90014 9.24531M0.363264 5.94569C0.60715 5.94569 0.865381 5.94569 0.865381 5.65876C0.865381 5.37184 0.60715 5.37184 0.363264 5.37184L-7.39803 5.37184C-7.64191 5.37184 -7.90014 5.37184 -7.90014 5.65876C-7.90014 5.94569 -7.64191 5.94569 -7.39803 5.94569ZM-7.39803 5.94569\" fill=\"black\"/>\n",
       "  <path d=\"M3.37281 9.24531M6.19901 0.0494022C6.19901 -0.28056 6.19901 -0.294907 5.91209 -0.294907C5.56778 0.0924408 4.85047 0.62325 3.37281 0.62325L3.37281 1.03929C3.70277 1.03929 4.42008 1.03929 5.20912 0.666289L5.20912 8.14066C5.20912 8.65712 5.16608 8.82927 3.90362 8.82927L3.45889 8.82927L3.45889 9.24531C3.84623 9.21662 5.23781 9.21662 5.71124 9.21662C6.18466 9.21662 7.5619 9.21662 7.94925 9.24531L7.94925 8.82927L7.50451 8.82927C6.24205 8.82927 6.19901 8.65712 6.19901 8.14066ZM6.19901 8.14066\" fill=\"black\"/>\n",
       " </g>\n",
       " <g transform=\"matrix(1.000000,0.000000,0.000000,1.000000,56.692913,-56.692913)\">\n",
       "  <path d=\"M-2.80882 9.24531M2.80055 6.83515L2.48493 6.83515C2.44189 7.07904 2.32712 7.86808 2.18366 8.09762C2.08324 8.22673 1.2655 8.22673 0.835118 8.22673L-1.81893 8.22673C-1.43158 7.89677 -0.556463 6.97861 -0.183462 6.63431C1.99716 4.62584 2.80055 3.87984 2.80055 2.45956C2.80055 0.809751 1.49504 -0.294907 -0.169115 -0.294907C-1.83327 -0.294907 -2.80882 1.12537 -2.80882 2.35914C-2.80882 3.0908 -2.17758 3.0908 -2.13454 3.0908C-1.83327 3.0908 -1.46027 2.8756 -1.46027 2.41652C-1.46027 2.01483 -1.73285 1.74225 -2.13454 1.74225C-2.26366 1.74225 -2.29235 1.74225 -2.33539 1.7566C-2.06281 0.781058 -1.28812 0.121133 -0.355616 0.121133C0.863811 0.121133 1.60981 1.13971 1.60981 2.45956C1.60981 3.67899 0.906849 4.74061 0.0891162 5.65876L-2.80882 8.901L-2.80882 9.24531L2.42755 9.24531ZM2.42755 9.24531\" fill=\"black\"/>\n",
       " </g>\n",
       " <g transform=\"matrix(1.000000,0.000000,0.000000,1.000000,56.692913,-28.346457)\">\n",
       "  <path d=\"M-2.80882 9.24531M2.80055 6.83515L2.48493 6.83515C2.44189 7.07904 2.32712 7.86808 2.18366 8.09762C2.08324 8.22673 1.2655 8.22673 0.835118 8.22673L-1.81893 8.22673C-1.43158 7.89677 -0.556463 6.97861 -0.183462 6.63431C1.99716 4.62584 2.80055 3.87984 2.80055 2.45956C2.80055 0.809751 1.49504 -0.294907 -0.169115 -0.294907C-1.83327 -0.294907 -2.80882 1.12537 -2.80882 2.35914C-2.80882 3.0908 -2.17758 3.0908 -2.13454 3.0908C-1.83327 3.0908 -1.46027 2.8756 -1.46027 2.41652C-1.46027 2.01483 -1.73285 1.74225 -2.13454 1.74225C-2.26366 1.74225 -2.29235 1.74225 -2.33539 1.7566C-2.06281 0.781058 -1.28812 0.121133 -0.355616 0.121133C0.863811 0.121133 1.60981 1.13971 1.60981 2.45956C1.60981 3.67899 0.906849 4.74061 0.0891162 5.65876L-2.80882 8.901L-2.80882 9.24531L2.42755 9.24531ZM2.42755 9.24531\" fill=\"black\"/>\n",
       " </g>\n",
       " <g transform=\"matrix(1.000000,0.000000,0.000000,1.000000,56.692913,-0.000000)\">\n",
       "  <path d=\"M-7.90014 9.24531M0.363264 5.94569C0.60715 5.94569 0.865381 5.94569 0.865381 5.65876C0.865381 5.37184 0.60715 5.37184 0.363264 5.37184L-7.39803 5.37184C-7.64191 5.37184 -7.90014 5.37184 -7.90014 5.65876C-7.90014 5.94569 -7.64191 5.94569 -7.39803 5.94569ZM-7.39803 5.94569\" fill=\"black\"/>\n",
       "  <path d=\"M3.37281 9.24531M6.19901 0.0494022C6.19901 -0.28056 6.19901 -0.294907 5.91209 -0.294907C5.56778 0.0924408 4.85047 0.62325 3.37281 0.62325L3.37281 1.03929C3.70277 1.03929 4.42008 1.03929 5.20912 0.666289L5.20912 8.14066C5.20912 8.65712 5.16608 8.82927 3.90362 8.82927L3.45889 8.82927L3.45889 9.24531C3.84623 9.21662 5.23781 9.21662 5.71124 9.21662C6.18466 9.21662 7.5619 9.21662 7.94925 9.24531L7.94925 8.82927L7.50451 8.82927C6.24205 8.82927 6.19901 8.65712 6.19901 8.14066ZM6.19901 8.14066\" fill=\"black\"/>\n",
       " </g>\n",
       " <g transform=\"matrix(1.000000,0.000000,0.000000,1.000000,28.346457,-85.039370)\">\n",
       "  <path d=\"M-7.90014 9.24531M0.363264 5.94569C0.60715 5.94569 0.865381 5.94569 0.865381 5.65876C0.865381 5.37184 0.60715 5.37184 0.363264 5.37184L-7.39803 5.37184C-7.64191 5.37184 -7.90014 5.37184 -7.90014 5.65876C-7.90014 5.94569 -7.64191 5.94569 -7.39803 5.94569ZM-7.39803 5.94569\" fill=\"black\"/>\n",
       "  <path d=\"M3.37281 9.24531M6.19901 0.0494022C6.19901 -0.28056 6.19901 -0.294907 5.91209 -0.294907C5.56778 0.0924408 4.85047 0.62325 3.37281 0.62325L3.37281 1.03929C3.70277 1.03929 4.42008 1.03929 5.20912 0.666289L5.20912 8.14066C5.20912 8.65712 5.16608 8.82927 3.90362 8.82927L3.45889 8.82927L3.45889 9.24531C3.84623 9.21662 5.23781 9.21662 5.71124 9.21662C6.18466 9.21662 7.5619 9.21662 7.94925 9.24531L7.94925 8.82927L7.50451 8.82927C6.24205 8.82927 6.19901 8.65712 6.19901 8.14066ZM6.19901 8.14066\" fill=\"black\"/>\n",
       " </g>\n",
       " <g transform=\"matrix(1.000000,0.000000,0.000000,1.000000,28.346457,-56.692913)\">\n",
       "  <path d=\"M-2.80882 9.24531M2.80055 6.83515L2.48493 6.83515C2.44189 7.07904 2.32712 7.86808 2.18366 8.09762C2.08324 8.22673 1.2655 8.22673 0.835118 8.22673L-1.81893 8.22673C-1.43158 7.89677 -0.556463 6.97861 -0.183462 6.63431C1.99716 4.62584 2.80055 3.87984 2.80055 2.45956C2.80055 0.809751 1.49504 -0.294907 -0.169115 -0.294907C-1.83327 -0.294907 -2.80882 1.12537 -2.80882 2.35914C-2.80882 3.0908 -2.17758 3.0908 -2.13454 3.0908C-1.83327 3.0908 -1.46027 2.8756 -1.46027 2.41652C-1.46027 2.01483 -1.73285 1.74225 -2.13454 1.74225C-2.26366 1.74225 -2.29235 1.74225 -2.33539 1.7566C-2.06281 0.781058 -1.28812 0.121133 -0.355616 0.121133C0.863811 0.121133 1.60981 1.13971 1.60981 2.45956C1.60981 3.67899 0.906849 4.74061 0.0891162 5.65876L-2.80882 8.901L-2.80882 9.24531L2.42755 9.24531ZM2.42755 9.24531\" fill=\"black\"/>\n",
       " </g>\n",
       " <g transform=\"matrix(1.000000,0.000000,0.000000,1.000000,28.346457,-28.346457)\">\n",
       "  <path d=\"M-2.80882 9.24531M2.80055 6.83515L2.48493 6.83515C2.44189 7.07904 2.32712 7.86808 2.18366 8.09762C2.08324 8.22673 1.2655 8.22673 0.835118 8.22673L-1.81893 8.22673C-1.43158 7.89677 -0.556463 6.97861 -0.183462 6.63431C1.99716 4.62584 2.80055 3.87984 2.80055 2.45956C2.80055 0.809751 1.49504 -0.294907 -0.169115 -0.294907C-1.83327 -0.294907 -2.80882 1.12537 -2.80882 2.35914C-2.80882 3.0908 -2.17758 3.0908 -2.13454 3.0908C-1.83327 3.0908 -1.46027 2.8756 -1.46027 2.41652C-1.46027 2.01483 -1.73285 1.74225 -2.13454 1.74225C-2.26366 1.74225 -2.29235 1.74225 -2.33539 1.7566C-2.06281 0.781058 -1.28812 0.121133 -0.355616 0.121133C0.863811 0.121133 1.60981 1.13971 1.60981 2.45956C1.60981 3.67899 0.906849 4.74061 0.0891162 5.65876L-2.80882 8.901L-2.80882 9.24531L2.42755 9.24531ZM2.42755 9.24531\" fill=\"black\"/>\n",
       " </g>\n",
       " <g transform=\"matrix(1.000000,0.000000,0.000000,1.000000,28.346457,-0.000000)\">\n",
       "  <path d=\"M-7.90014 9.24531M0.363264 5.94569C0.60715 5.94569 0.865381 5.94569 0.865381 5.65876C0.865381 5.37184 0.60715 5.37184 0.363264 5.37184L-7.39803 5.37184C-7.64191 5.37184 -7.90014 5.37184 -7.90014 5.65876C-7.90014 5.94569 -7.64191 5.94569 -7.39803 5.94569ZM-7.39803 5.94569\" fill=\"black\"/>\n",
       "  <path d=\"M3.37281 9.24531M6.19901 0.0494022C6.19901 -0.28056 6.19901 -0.294907 5.91209 -0.294907C5.56778 0.0924408 4.85047 0.62325 3.37281 0.62325L3.37281 1.03929C3.70277 1.03929 4.42008 1.03929 5.20912 0.666289L5.20912 8.14066C5.20912 8.65712 5.16608 8.82927 3.90362 8.82927L3.45889 8.82927L3.45889 9.24531C3.84623 9.21662 5.23781 9.21662 5.71124 9.21662C6.18466 9.21662 7.5619 9.21662 7.94925 9.24531L7.94925 8.82927L7.50451 8.82927C6.24205 8.82927 6.19901 8.65712 6.19901 8.14066ZM6.19901 8.14066\" fill=\"black\"/>\n",
       " </g>\n",
       " <g transform=\"matrix(1.000000,0.000000,0.000000,1.000000,0.000000,-56.692913)\">\n",
       "  <path d=\"M-7.90014 9.24531M0.363264 5.94569C0.60715 5.94569 0.865381 5.94569 0.865381 5.65876C0.865381 5.37184 0.60715 5.37184 0.363264 5.37184L-7.39803 5.37184C-7.64191 5.37184 -7.90014 5.37184 -7.90014 5.65876C-7.90014 5.94569 -7.64191 5.94569 -7.39803 5.94569ZM-7.39803 5.94569\" fill=\"black\"/>\n",
       "  <path d=\"M3.37281 9.24531M6.19901 0.0494022C6.19901 -0.28056 6.19901 -0.294907 5.91209 -0.294907C5.56778 0.0924408 4.85047 0.62325 3.37281 0.62325L3.37281 1.03929C3.70277 1.03929 4.42008 1.03929 5.20912 0.666289L5.20912 8.14066C5.20912 8.65712 5.16608 8.82927 3.90362 8.82927L3.45889 8.82927L3.45889 9.24531C3.84623 9.21662 5.23781 9.21662 5.71124 9.21662C6.18466 9.21662 7.5619 9.21662 7.94925 9.24531L7.94925 8.82927L7.50451 8.82927C6.24205 8.82927 6.19901 8.65712 6.19901 8.14066ZM6.19901 8.14066\" fill=\"black\"/>\n",
       " </g>\n",
       " <g transform=\"matrix(1.000000,0.000000,0.000000,1.000000,0.000000,-28.346457)\">\n",
       "  <path d=\"M-7.90014 9.24531M0.363264 5.94569C0.60715 5.94569 0.865381 5.94569 0.865381 5.65876C0.865381 5.37184 0.60715 5.37184 0.363264 5.37184L-7.39803 5.37184C-7.64191 5.37184 -7.90014 5.37184 -7.90014 5.65876C-7.90014 5.94569 -7.64191 5.94569 -7.39803 5.94569ZM-7.39803 5.94569\" fill=\"black\"/>\n",
       "  <path d=\"M3.37281 9.24531M6.19901 0.0494022C6.19901 -0.28056 6.19901 -0.294907 5.91209 -0.294907C5.56778 0.0924408 4.85047 0.62325 3.37281 0.62325L3.37281 1.03929C3.70277 1.03929 4.42008 1.03929 5.20912 0.666289L5.20912 8.14066C5.20912 8.65712 5.16608 8.82927 3.90362 8.82927L3.45889 8.82927L3.45889 9.24531C3.84623 9.21662 5.23781 9.21662 5.71124 9.21662C6.18466 9.21662 7.5619 9.21662 7.94925 9.24531L7.94925 8.82927L7.50451 8.82927C6.24205 8.82927 6.19901 8.65712 6.19901 8.14066ZM6.19901 8.14066\" fill=\"black\"/>\n",
       " </g>\n",
       "</svg>\n"
      ],
      "text/plain": [
       "<pyx.canvas.canvas at 0x7f0cf1a77a90>"
      ]
     },
     "metadata": {},
     "output_type": "display_data"
    }
   ],
   "source": [
    "for w in laplace[-1].GB():\n",
    "    display(sum(Symbol(m.T_latex())*c for m, c in w.poly))\n",
    "    \n",
    "    frm, l = [pyx.text.halign.boxcenter, pyx.text.valign.top], 1.\n",
    "    pyx.unit.set(wscale=1)\n",
    "    canvas = pyx.canvas.canvas()\n",
    "    for m, c in w.poly:\n",
    "        canvas.text(m[0]*l, m[1]*l, fr\"\\Large${c}$\", frm)\n",
    "    display(canvas)"
   ]
  },
  {
   "cell_type": "code",
   "execution_count": 16,
   "id": "4b591614",
   "metadata": {},
   "outputs": [
    {
     "name": "stdout",
     "output_type": "stream",
     "text": [
      "prolong <= uy*k\n",
      "T(uy, k)\n",
      "prolong <= ux*j\n",
      "T(ux, j)\n",
      "prolong <= ux*j*k\n",
      "ux*j*k\n",
      "T(ux, k)\n",
      "prolongAll\n",
      "ux*j*k\n",
      "T(uy, j, 2)\n",
      "prolongAll\n",
      "T(uy, j, k)\n",
      "prolongAll\n",
      "uy*j**2*k\n",
      "T(u, j, 2, k, 2)\n",
      "prolongAll\n",
      "crit1: 0\n",
      "crit2: 0\n",
      " time: 0.06 sec\n",
      "    count: 6\n",
      "reduction: 14\n",
      "       HP: 4s + 1\n"
     ]
    }
   ],
   "source": [
    "laplace = Forest(Janet)\n",
    "res = ginvMin((\n",
    "(T(ux, j) + T(ux))/2*h - (T(u, j) - T(u)),\\\n",
    "(T(uy, k) + T(uy))/2*h - (T(u, k) - T(u)),\\\n",
    "-((T(uy) + T(uy, j))/2 - (T(uy, j, k) + T(uy, k))/2)*h +\\\n",
    " ((T(ux, j) + T(ux, j, k))/2 - (T(ux, k) + T(ux))/2)*h), \\\n",
    "laplace, level=1)\n",
    "print(f\"crit1: {res[1]}\")\n",
    "print(f\"crit2: {res[2]}\")\n",
    "print(f\" time: {res[0]:.2f} sec\")\n",
    "print(f\"    count: {laplace.count()}\")\n",
    "print(f\"reduction: {laplace.reduction()}\")\n",
    "print(f\"       HP: {laplace.HP()}\")"
   ]
  },
  {
   "cell_type": "code",
   "execution_count": 18,
   "id": "51c962fa",
   "metadata": {},
   "outputs": [
    {
     "data": {
      "image/png": "[encoded data removed]",
      "text/latex": [
       "$\\displaystyle - 4 {u}_{{j} + 1\\, {k} + 1} + {u}_{{j} + 2\\, {k} + 2} + {u}_{{j} + 2\\, {k}} + {u}_{{j}\\, {k} + 2} + {u}_{{j}\\, {k}}$"
      ],
      "text/plain": [
       "-4⋅{u}_{{j} + 1\\, {k} + 1} + {u}_{{j} + 2\\, {k} + 2} + {u}_{{j} + 2\\, {k}} + {u}_{{j}\\, {k} + 2} + {u\n",
       "}_{{j}\\, {k}}"
      ]
     },
     "metadata": {},
     "output_type": "display_data"
    },
    {
     "data": {
      "image/png": "[encoded data removed]",
      "image/svg+xml": [
       "<?xml version=\"1.0\" encoding=\"utf-8\"?>\n",
       "<svg xmlns=\"http://www.w3.org/2000/svg\" fill=\"none\" version=\"1.1\" viewBox=\"-4.51178 -57.6929 65.7165 67.9382\" x=\"-4.51178pt\" y=\"-57.6929pt\" width=\"65.7165pt\" height=\"67.9382pt\" stroke-width=\"0.566929\" stroke-miterlimit=\"10.000000\">\n",
       " <g transform=\"matrix(1.000000,0.000000,0.000000,1.000000,56.692913,-56.692913)\">\n",
       "  <path d=\"M-2.20628 9.24531M0.619925 0.0494022C0.619925 -0.28056 0.619925 -0.294907 0.333001 -0.294907C-0.0113072 0.0924408 -0.728617 0.62325 -2.20628 0.62325L-2.20628 1.03929C-1.87631 1.03929 -1.159 1.03929 -0.369962 0.666289L-0.369962 8.14066C-0.369962 8.65712 -0.413001 8.82927 -1.67547 8.82927L-2.1202 8.82927L-2.1202 9.24531C-1.73285 9.21662 -0.34127 9.21662 0.132155 9.21662C0.605579 9.21662 1.98281 9.21662 2.37016 9.24531L2.37016 8.82927L1.92543 8.82927C0.662964 8.82927 0.619925 8.65712 0.619925 8.14066ZM0.619925 8.14066\" fill=\"black\"/>\n",
       " </g>\n",
       " <g transform=\"matrix(1.000000,0.000000,0.000000,1.000000,56.692913,-0.000000)\">\n",
       "  <path d=\"M-2.20628 9.24531M0.619925 0.0494022C0.619925 -0.28056 0.619925 -0.294907 0.333001 -0.294907C-0.0113072 0.0924408 -0.728617 0.62325 -2.20628 0.62325L-2.20628 1.03929C-1.87631 1.03929 -1.159 1.03929 -0.369962 0.666289L-0.369962 8.14066C-0.369962 8.65712 -0.413001 8.82927 -1.67547 8.82927L-2.1202 8.82927L-2.1202 9.24531C-1.73285 9.21662 -0.34127 9.21662 0.132155 9.21662C0.605579 9.21662 1.98281 9.21662 2.37016 9.24531L2.37016 8.82927L1.92543 8.82927C0.662964 8.82927 0.619925 8.65712 0.619925 8.14066ZM0.619925 8.14066\" fill=\"black\"/>\n",
       " </g>\n",
       " <g transform=\"matrix(1.000000,0.000000,0.000000,1.000000,28.346457,-28.346457)\">\n",
       "  <path d=\"M-7.90014 9.24531M0.363264 5.94569C0.60715 5.94569 0.865381 5.94569 0.865381 5.65876C0.865381 5.37184 0.60715 5.37184 0.363264 5.37184L-7.39803 5.37184C-7.64191 5.37184 -7.90014 5.37184 -7.90014 5.65876C-7.90014 5.94569 -7.64191 5.94569 -7.39803 5.94569ZM-7.39803 5.94569\" fill=\"black\"/>\n",
       "  <path d=\"M2.45465 9.24531M7.24628 -0.0940598C7.24628 -0.366637 7.24628 -0.438368 7.04544 -0.438368C6.93067 -0.438368 6.88763 -0.438368 6.77286 -0.266214L2.45465 6.43346L2.45465 6.8495L6.2277 6.8495L6.2277 8.155C6.2277 8.68581 6.19901 8.82927 5.15174 8.82927L4.86481 8.82927L4.86481 9.24531C5.19478 9.21662 6.32813 9.21662 6.72982 9.21662C7.13151 9.21662 8.27921 9.21662 8.60917 9.24531L8.60917 8.82927L8.32225 8.82927C7.28932 8.82927 7.24628 8.68581 7.24628 8.155L7.24628 6.8495L8.69525 6.8495L8.69525 6.43346L7.24628 6.43346ZM7.24628 6.43346M6.29943 1.02494L6.29943 6.43346L2.81331 6.43346ZM2.81331 6.43346\" fill=\"black\"/>\n",
       " </g>\n",
       " <g transform=\"matrix(1.000000,0.000000,0.000000,1.000000,0.000000,-56.692913)\">\n",
       "  <path d=\"M-2.20628 9.24531M0.619925 0.0494022C0.619925 -0.28056 0.619925 -0.294907 0.333001 -0.294907C-0.0113072 0.0924408 -0.728617 0.62325 -2.20628 0.62325L-2.20628 1.03929C-1.87631 1.03929 -1.159 1.03929 -0.369962 0.666289L-0.369962 8.14066C-0.369962 8.65712 -0.413001 8.82927 -1.67547 8.82927L-2.1202 8.82927L-2.1202 9.24531C-1.73285 9.21662 -0.34127 9.21662 0.132155 9.21662C0.605579 9.21662 1.98281 9.21662 2.37016 9.24531L2.37016 8.82927L1.92543 8.82927C0.662964 8.82927 0.619925 8.65712 0.619925 8.14066ZM0.619925 8.14066\" fill=\"black\"/>\n",
       " </g>\n",
       " <g transform=\"matrix(1.000000,0.000000,0.000000,1.000000,0.000000,-0.000000)\">\n",
       "  <path d=\"M-2.20628 9.24531M0.619925 0.0494022C0.619925 -0.28056 0.619925 -0.294907 0.333001 -0.294907C-0.0113072 0.0924408 -0.728617 0.62325 -2.20628 0.62325L-2.20628 1.03929C-1.87631 1.03929 -1.159 1.03929 -0.369962 0.666289L-0.369962 8.14066C-0.369962 8.65712 -0.413001 8.82927 -1.67547 8.82927L-2.1202 8.82927L-2.1202 9.24531C-1.73285 9.21662 -0.34127 9.21662 0.132155 9.21662C0.605579 9.21662 1.98281 9.21662 2.37016 9.24531L2.37016 8.82927L1.92543 8.82927C0.662964 8.82927 0.619925 8.65712 0.619925 8.14066ZM0.619925 8.14066\" fill=\"black\"/>\n",
       " </g>\n",
       "</svg>\n"
      ],
      "text/plain": [
       "<pyx.canvas.canvas at 0x7f0ccb54f9d0>"
      ]
     },
     "metadata": {},
     "output_type": "display_data"
    }
   ],
   "source": [
    "for w in laplace[-1].GB():\n",
    "    display(sum(Symbol(m.T_latex())*c for m, c in w.poly))\n",
    "    \n",
    "    frm, l = [pyx.text.halign.boxcenter, pyx.text.valign.top], 1.\n",
    "    pyx.unit.set(wscale=1)\n",
    "    canvas = pyx.canvas.canvas()\n",
    "    for m, c in w.poly:\n",
    "        canvas.text(m[0]*l, m[1]*l, fr\"\\Large${c}$\", frm)\n",
    "    display(canvas)"
   ]
  },
  {
   "cell_type": "markdown",
   "id": "67909f83",
   "metadata": {},
   "source": [
    "на примере уравнения Бюргерса\n",
    "\\begin{equation}\n",
    "  u_t + f_x = \\nu\\ u_{xx}, \\quad \\nu = \\mathrm{const}\n",
    "\\end{equation}"
   ]
  },
  {
   "cell_type": "markdown",
   "id": "055c18d7",
   "metadata": {},
   "source": [
    "## Генерация схем типа Лакса\n",
    "Применяя интегральное представление, представим\n",
    "уравнение в виде следующей системы\n",
    "\\begin{equation}\n",
    "  \\left\\{\n",
    "  \\begin{array}{rcl}\n",
    "    u_t + f_x &=& \\nu\\ u_{xx} \\\\\n",
    "    \\displaystyle\\int^{\\tau_2}_{\\tau_1}u_t\\,dt &=& u\\Bigr\\vert^{t=\\tau_2}_{t=\\tau_1} \\\\\n",
    "    \\displaystyle\\int^{h_2}_{h_1} f_x\\,dx      &=& f\\Bigr\\vert^{x=h_2}_{x=h_1}\\\\\n",
    "    \\displaystyle\\int^{h_2}_{h_1} u_x\\,dx      &=& u\\Bigr\\vert^{x=h_2}_{x=h_1}\\\\\n",
    "    \\displaystyle\\int^{h_2}_{h_1} u_{xx}\\,dx   &=& u_x\\Bigr\\vert^{x=h_2}_{x=h_1}.\n",
    "  \\end{array}\n",
    "  \\right.\n",
    "\\end{equation}\n",
    "Задавая в качестве метода интегрирования квадратурную\n",
    "формулу прямоугольников со средней точкой по переменной $x$\n",
    "и явную формулу интегрирования по переменной $t$, получим следующую\n",
    "систему разностных соотношений для системы\n",
    "\\begin{equation}\n",
    "  \\left\\{\n",
    "  \\begin{array}{rcl}\n",
    "    {u_t\\,}^{n}_{j} + {f_x\\,}^{n}_{j} &=& \\nu\\ {u_{xx}\\,}^{n}_{j} \\\\\n",
    "    {u_t\\,}^{n}_{j}\\,\\tau &=& u^{n+1}_{j} - \\mathbf{u^{n}_{j}} \\\\\n",
    "    2{f_x\\,}^{n}_{j+1}\\,h &=& f^{n}_{j+2} - f^{n}_{j} \\\\\n",
    "    2{u_x\\,}^{n}_{j+1}\\,h &=& u^{n}_{j+2} - u^{n}_{j} \\\\\n",
    "    2{u_{xx}\\,}^{n}_{j+1}\\,h &=& {u_x\\,}^{n}_{j+2} - {u_x\\,}^{n}_{j}.\n",
    "  \\end{array}\n",
    "  \\right.\n",
    "\\end{equation}\n",
    "Здесь $h=h_2-h_1$, $\\tau=\\tau_2-\\tau_1$ -- шаги по переменным $x$ и $t$,\n",
    "а $n,\\ j$ номера узлов сетки по $x$ и $t$ соответственно. Заменяя\n",
    "во втором уравнении в системе значение $u$ с предыдущего\n",
    "временного слоя средним значением соседних точек по оси $x$, получим систему\n",
    "разностных соотношений для вывода схемы типа Лакса\n",
    "\\begin{equation}\n",
    "  \\left\\{\n",
    "  \\begin{array}{rcl}\n",
    "    {u_t\\,}^{n}_{j} + {f_x\\,}^{n}_{j} &=& \\nu\\ {u_{xx}\\,}^{n}_{j} \\\\\n",
    "    {u_t\\,}^{n}_{j}\\,\\tau &=& u^{n+1}_{j} - \\mathbf{\\frac{u^{n}_{j+2} + u^{n}_{j}}{2}} \\\\\n",
    "    2{f_x\\,}^{n}_{j+1}\\,h &=& f^{n}_{j+2} - f^{n}_{j} \\\\\n",
    "    2{u_x\\,}^{n}_{j+1}\\,h &=& u^{n}_{j+2} - u^{n}_{j} \\\\\n",
    "    2{u_{xx}\\,}^{n}_{j+1}\\,h &=& {u_x\\,}^{n}_{j+2} - {u_x\\,}^{n}_{j}.\n",
    "  \\end{array}\n",
    "  \\right.\n",
    "\\end{equation}"
   ]
  },
  {
   "cell_type": "code",
   "execution_count": 19,
   "id": "56ed07bb",
   "metadata": {},
   "outputs": [],
   "source": [
    "var = 'n, j'.split(', ')\n",
    "fun = 'uxx, ux, ut, fx, u, f'.split(', ')\n",
    "Monom.init(var, fun)\n",
    "T = PolySchem.T\n",
    "var, fun = PolySchem.init()\n",
    "n, j = var\n",
    "uxx, ux, ut, fx, u, f = fun"
   ]
  },
  {
   "cell_type": "code",
   "execution_count": 20,
   "id": "15411a38",
   "metadata": {},
   "outputs": [
    {
     "name": "stdout",
     "output_type": "stream",
     "text": [
      "prolong <= fx*j\n",
      "T(fx, j)\n",
      "prolong <= ut*j\n",
      "T(ut, j)\n",
      "prolong <= ux*j\n",
      "T(ux, j)\n",
      "prolong <= uxx\n",
      "T(uxx)\n",
      "prolong <= uxx*j\n",
      "uxx*j\n",
      "T(ux)\n",
      "prolong <= ux*j\n",
      "ux*j\n",
      "T(u, n, j, 2)\n",
      "prolongAll\n",
      "crit1: 0\n",
      "crit2: 0\n",
      " time: 0.04 sec\n",
      "    count: 5\n",
      "reduction: 7\n",
      "       HP: s^2/2 + 13s/2 + 3\n"
     ]
    }
   ],
   "source": [
    "burgers = Forest(Janet)\n",
    "res = ginvMin((\n",
    "T(ut) + T(fx) - nu*T(uxx),\\\n",
    "T(ut, j) - (T(u, n, j) - (T(u, j, 2) + T(u))/2)/tau,\\\n",
    "T(fx, j)*2*h - (T(f, j, 2) - T(f)),\\\n",
    "T(ux, j)*2*h - (T(u, j, 2) - T(u)),\\\n",
    "T(uxx, j)*2*h - (T(ux, j, 2) - T(ux))),\\\n",
    "burgers, level=1)\n",
    "print(f\"crit1: {res[1]}\")\n",
    "print(f\"crit2: {res[2]}\")\n",
    "print(f\" time: {res[0]:.2f} sec\")\n",
    "print(f\"    count: {burgers.count()}\")\n",
    "print(f\"reduction: {burgers.reduction()}\")\n",
    "print(f\"       HP: {burgers.HP()}\")"
   ]
  },
  {
   "cell_type": "code",
   "execution_count": 21,
   "id": "d99724c8",
   "metadata": {},
   "outputs": [
    {
     "name": "stdout",
     "output_type": "stream",
     "text": [
      "T(uxx)*(-nu) + T(ut) + T(fx)\n",
      "T(ux)*(-2*h*nu) + T(u, n, j)*(-4*h**2/tau) + T(u, j, 3)*nu + T(u, j, 2)*2*h**2/tau + T(u, j)*(-nu) + T(u)*2*h**2/tau + T(f, j, 2)*(-2*h) + T(f)*2*h\n",
      "T(ut, j) + T(u, n, j)*(-1/tau) + T(u, j, 2)*1/(2*tau) + T(u)*1/(2*tau)\n",
      "T(fx, j)*2*h + T(f, j, 2)*(-1) + T(f)\n",
      "T(u, n, j, 2)*4*h**2/tau + T(u, j, 4)*(-nu) + T(u, j, 3)*(-2*h**2/tau) + T(u, j, 2)*2*nu + T(u, j)*(-2*h**2/tau) + T(u)*(-nu) + T(f, j, 3)*2*h + T(f, j)*(-2*h)\n"
     ]
    }
   ],
   "source": [
    "for w in burgers:\n",
    "    print(w.poly)"
   ]
  },
  {
   "cell_type": "markdown",
   "id": "168517a9",
   "metadata": {},
   "source": [
    "\\begin{equation}\n",
    "  \\frac{2u^{n+1}_{j+2} - (u^{n}_{j+3} + u^{n}_{j+1})}{2\\tau}\n",
    "    + \\frac{f^{n}_{j+3} - f^{n}_{j+1}}{2h} = \\nu\\frac{u^{n}_{j+4}-2u^{n}_{j+2}+u^{n}_{j}}{4h^2}\n",
    "\\end{equation}"
   ]
  },
  {
   "cell_type": "code",
   "execution_count": 22,
   "id": "4c2f90f9",
   "metadata": {},
   "outputs": [
    {
     "name": "stdout",
     "output_type": "stream",
     "text": [
      "T(u, n, j, 2)*1/tau + T(u, j, 4)*(-nu/(4*h**2)) + T(u, j, 3)*(-1/(2*tau)) + T(u, j, 2)*nu/(2*h**2) + T(u, j)*(-1/(2*tau)) + T(u)*(-nu/(4*h**2)) + T(f, j, 3)*1/(2*h) + T(f, j)*(-1/(2*h))\n"
     ]
    },
    {
     "data": {
      "image/png": "[encoded data removed]",
      "text/latex": [
       "$\\displaystyle \\frac{{u}_{{n} + 1\\, {j} + 2} - \\frac{{u}_{{n}\\, {j} + 1}}{2} - \\frac{{u}_{{n}\\, {j} + 3}}{2}}{\\tau} + \\frac{- \\frac{{f}_{{n}\\, {j} + 1}}{2} + \\frac{{f}_{{n}\\, {j} + 3}}{2}}{h} + \\frac{\\frac{\\nu {u}_{{n}\\, {j} + 2}}{2} - \\frac{\\nu {u}_{{n}\\, {j} + 4}}{4} - \\frac{\\nu {u}_{{n}\\, {j}}}{4}}{h^{2}}$"
      ],
      "text/plain": [
       "                          {u}_{{n}\\, {j} + 1}   {u}_{{n}\\, {j} + 3}     {f}_{{n}\\, {j} + 1}   {f}_{{n\n",
       "{u}_{{n} + 1\\, {j} + 2} - ─────────────────── - ───────────────────   - ─────────────────── + ───────\n",
       "                                   2                     2                       2                   \n",
       "─────────────────────────────────────────────────────────────────── + ───────────────────────────────\n",
       "                                 τ                                                         h         \n",
       "                                                                                                     \n",
       "\n",
       "}\\, {j} + 3}   ν⋅{u}_{{n}\\, {j} + 2}   ν⋅{u}_{{n}\\, {j} + 4}   ν⋅{u}_{{n}\\, {j}}\n",
       "────────────   ───────────────────── - ───────────────────── - ─────────────────\n",
       "  2                      2                       4                     4        \n",
       "──────────── + ─────────────────────────────────────────────────────────────────\n",
       "                                                2                               \n",
       "                                               h                                "
      ]
     },
     "metadata": {},
     "output_type": "display_data"
    },
    {
     "data": {
      "image/png": "[encoded data removed]",
      "image/svg+xml": [
       "<?xml version=\"1.0\" encoding=\"utf-8\"?>\n",
       "<svg xmlns=\"http://www.w3.org/2000/svg\" fill=\"none\" version=\"1.1\" viewBox=\"-15.37 -80.3701 189.48 98.3861\" x=\"-15.37pt\" y=\"-80.3701pt\" width=\"189.48pt\" height=\"98.3861pt\" stroke-width=\"0.566929\" stroke-miterlimit=\"10.000000\">\n",
       " <g transform=\"matrix(1.000000,0.000000,0.000000,1.000000,79.370079,-39.685039)\">\n",
       "  <path d=\"M-1.60399 6.42037M0.438356 0.0442767C0.438356 -0.194827 0.438356 -0.214752 0.209215 -0.214752C-0.408468 0.422857 -1.28518 0.422857 -1.60399 0.422857L-1.60399 0.731699C-1.40473 0.731699 -0.816936 0.731699 -0.298879 0.47267L-0.298879 5.63332C-0.298879 5.99197 -0.328767 6.11152 -1.2254 6.11152L-1.54421 6.11152L-1.54421 6.42037C-1.19552 6.39048 -0.328767 6.39048 0.0697385 6.39048C0.468244 6.39048 1.33499 6.39048 1.68369 6.42037L1.68369 6.11152L1.36488 6.11152C0.468244 6.11152 0.438356 6.00194 0.438356 5.63332ZM0.438356 5.63332\" fill=\"black\"/>\n",
       "  <path d=\"M-2.74146 8.68162L2.74146 8.68162L2.74146 8.28313L-2.74146 8.28313Z\" fill=\"black\"/>\n",
       "  <path d=\"M-2.47247 17.0161M0.187557 13.3L1.86128 13.3C1.9908 13.3 2.34945 13.3 2.34945 12.9613C2.34945 12.7222 2.14023 12.7222 1.95094 12.7222L-0.838595 12.7222C-1.03785 12.7222 -1.42639 12.7222 -1.86475 13.1904C-2.19351 13.5491 -2.47247 14.0273 -2.47247 14.087C-2.47247 14.097 -2.47247 14.1867 -2.35292 14.1867C-2.27321 14.1867 -2.25329 14.1468 -2.19351 14.0671C-1.70534 13.3 -1.13747 13.3 -0.928259 13.3L-0.101359 13.3L-1.0777 16.498C-1.11755 16.6175 -1.17732 16.8268 -1.17732 16.8666C-1.17732 16.9762 -1.10759 17.1356 -0.888408 17.1356C-0.559641 17.1356 -0.509828 16.8567 -0.47994 16.7072ZM-0.47994 16.7072\" fill=\"black\"/>\n",
       " </g>\n",
       " <g transform=\"matrix(1.000000,0.000000,0.000000,1.000000,158.740157,-0.000000)\">\n",
       "  <path d=\"M-13.1793 9.93801M-4.91584 6.63839C-4.67196 6.63839 -4.41373 6.63839 -4.41373 6.35146C-4.41373 6.06454 -4.67196 6.06454 -4.91584 6.06454L-12.6771 6.06454C-12.921 6.06454 -13.1793 6.06454 -13.1793 6.35146C-13.1793 6.63839 -12.921 6.63839 -12.6771 6.63839ZM-12.6771 6.63839\" fill=\"black\"/>\n",
       "  <path d=\"M3.32934 4.28946M5.03296 -0.00444135C5.03296 -0.014404 5.03296 -0.11403 4.90344 -0.11403C4.6743 -0.11403 3.94703 -0.0343293 3.688 -0.014404C3.6083 -0.00444135 3.49871 0.00552129 3.49871 0.184849C3.49871 0.3044 3.58837 0.3044 3.73781 0.3044C4.21602 0.3044 4.23594 0.374139 4.23594 0.473765C4.23594 0.543504 4.11639 1.01175 4.04665 1.28074L3.43893 3.72159C3.39908 3.87103 3.32934 4.14998 3.32934 4.1699C3.32934 4.27949 3.42897 4.28946 3.48875 4.28946L3.62822 4.28946C4.32561 4.1699 5.41154 3.78136 6.43769 2.82495C7.75276 1.59954 8.02175 0.244625 8.02175 0.154961C8.02175 -0.014404 7.9022 -0.11403 7.73283 -0.11403C7.65313 -0.11403 7.42399 -0.0741798 7.34429 0.214737C6.70668 2.47626 5.19236 3.59207 4.05662 3.96069ZM4.05662 3.96069\" fill=\"black\"/>\n",
       "  <path d=\"M-2.01629 6.55071L13.1745 6.55071L13.1745 6.15222L-2.01629 6.15222Z\" fill=\"black\"/>\n",
       "  <path d=\"M-1.73733 14.8851M0.912728 13.2413L0.912728 14.1081C0.912728 14.4667 0.892803 14.5763 0.155567 14.5763L-0.0536483 14.5763L-0.0536483 14.8851C0.35482 14.8553 0.872877 14.8553 1.29131 14.8553C1.70974 14.8553 2.23776 14.8553 2.64623 14.8851L2.64623 14.5763L2.43701 14.5763C1.69978 14.5763 1.67985 14.4667 1.67985 14.1081L1.67985 13.2413L2.67612 13.2413L2.67612 12.9325L1.67985 12.9325L1.67985 8.39947C1.67985 8.20021 1.67985 8.14044 1.52045 8.14044C1.43079 8.14044 1.4009 8.14044 1.3212 8.25999L-1.73733 12.9325L-1.73733 13.2413ZM-1.73733 13.2413M0.972504 12.9325L-1.45838 12.9325L0.972504 9.2164ZM0.972504 9.2164\" fill=\"black\"/>\n",
       "  <path d=\"M3.51299 14.8851M5.82432 8.08066C5.82432 8.0707 5.82432 7.97107 5.69481 7.97107C5.46567 7.97107 4.7384 8.05077 4.47937 8.0707C4.39967 8.08066 4.29008 8.09062 4.29008 8.26995C4.29008 8.3895 4.37974 8.3895 4.52918 8.3895C5.00739 8.3895 5.02731 8.45924 5.02731 8.55887L4.99743 8.75812L3.55284 14.4966C3.51299 14.6361 3.51299 14.656 3.51299 14.7158C3.51299 14.9449 3.71224 14.9947 3.80191 14.9947C3.96131 14.9947 4.12071 14.8752 4.17053 14.7357L4.35982 13.9785L4.57899 13.0819C4.63877 12.8627 4.69855 12.6436 4.74836 12.4144C4.76828 12.3546 4.84799 12.0259 4.85795 11.9661C4.88784 11.8764 5.19668 11.3185 5.53541 11.0495C5.75459 10.8901 6.06343 10.7008 6.49182 10.7008C6.92021 10.7008 7.0298 11.0396 7.0298 11.3982C7.0298 11.9362 6.65122 13.0221 6.41212 13.6299C6.33242 13.859 6.28261 13.9785 6.28261 14.1778C6.28261 14.646 6.6313 14.9947 7.09954 14.9947C8.03603 14.9947 8.40465 13.5402 8.40465 13.4605C8.40465 13.3609 8.31498 13.3609 8.2851 13.3609C8.18547 13.3609 8.18547 13.3907 8.13566 13.5402C7.98622 14.0682 7.66741 14.7756 7.11947 14.7756C6.9501 14.7756 6.88036 14.6759 6.88036 14.4468C6.88036 14.1977 6.97003 13.9586 7.05969 13.7394C7.21909 13.311 7.66741 12.1255 7.66741 11.5477C7.66741 10.9001 7.26891 10.4817 6.52171 10.4817C5.89406 10.4817 5.41586 10.7905 5.04724 11.2488ZM5.04724 11.2488\" fill=\"black\"/>\n",
       "  <path d=\"M9.14446 12.0071M12.2269 10.7378L11.9898 10.7378C11.9689 10.8912 11.8991 11.3027 11.8085 11.3724C11.7527 11.4143 11.2157 11.4143 11.1181 11.4143L9.83487 11.4143C10.5671 10.7657 10.8112 10.5704 11.2296 10.2427C11.7457 9.83121 12.2269 9.39883 12.2269 8.73632C12.2269 7.89248 11.4877 7.37642 10.595 7.37642C9.73026 7.37642 9.14446 7.98314 9.14446 8.62474C9.14446 8.9804 9.44433 9.01527 9.51407 9.01527C9.68144 9.01527 9.88368 8.89672 9.88368 8.64566C9.88368 8.52013 9.83487 8.27604 9.47223 8.27604C9.68842 7.7809 10.1626 7.62748 10.4904 7.62748C11.1878 7.62748 11.5504 8.17144 11.5504 8.73632C11.5504 9.34304 11.1181 9.82424 10.8949 10.0753L9.21419 11.7351C9.14446 11.7978 9.14446 11.8118 9.14446 12.0071L12.0177 12.0071ZM12.0177 12.0071\" fill=\"black\"/>\n",
       " </g>\n",
       " <g transform=\"matrix(1.000000,0.000000,0.000000,1.000000,119.055118,-0.000000)\">\n",
       "  <path d=\"M-10.816 12.0689M-2.55259 8.7693C-2.3087 8.7693 -2.05047 8.7693 -2.05047 8.48237C-2.05047 8.19545 -2.3087 8.19545 -2.55259 8.19545L-10.3139 8.19545C-10.5578 8.19545 -10.816 8.19545 -10.816 8.48237C-10.816 8.7693 -10.5578 8.7693 -10.3139 8.7693ZM-10.3139 8.7693\" fill=\"black\"/>\n",
       "  <path d=\"M3.9751 6.42037M6.01744 0.0442767C6.01744 -0.194827 6.01744 -0.214752 5.7883 -0.214752C5.17062 0.422857 4.2939 0.422857 3.9751 0.422857L3.9751 0.731699C4.17435 0.731699 4.76215 0.731699 5.28021 0.47267L5.28021 5.63332C5.28021 5.99197 5.25032 6.11152 4.35368 6.11152L4.03488 6.11152L4.03488 6.42037C4.38357 6.39048 5.25032 6.39048 5.64882 6.39048C6.04733 6.39048 6.91408 6.39048 7.26277 6.42037L7.26277 6.11152L6.94397 6.11152C6.04733 6.11152 6.01744 6.00194 6.01744 5.63332ZM6.01744 5.63332\" fill=\"black\"/>\n",
       "  <path d=\"M0.346965 8.68162L10.8112 8.68162L10.8112 8.28313L0.346965 8.28313Z\" fill=\"black\"/>\n",
       "  <path d=\"M0.845097 17.0161M1.61222 16.2489L2.66826 15.2228C4.22243 13.8479 4.82019 13.31 4.82019 12.3137C4.82019 11.1779 3.92355 10.3809 2.70811 10.3809C1.58233 10.3809 0.845097 11.2975 0.845097 12.1842C0.845097 12.7421 1.34323 12.7421 1.37312 12.7421C1.54248 12.7421 1.89117 12.6225 1.89117 12.2141C1.89117 11.955 1.71185 11.696 1.36315 11.696C1.28345 11.696 1.26353 11.696 1.23364 11.706C1.46278 11.0584 2.00076 10.6898 2.5786 10.6898C3.4852 10.6898 3.91359 11.4968 3.91359 12.3137C3.91359 13.1107 3.41546 13.8977 2.86751 14.5154L0.954687 16.6474C0.845097 16.757 0.845097 16.777 0.845097 17.0161L4.54124 17.0161L4.82019 15.2826L4.57112 15.2826C4.52131 15.5814 4.45157 16.0198 4.35195 16.1692C4.28221 16.2489 3.62467 16.2489 3.4055 16.2489ZM3.4055 16.2489\" fill=\"black\"/>\n",
       "  <path d=\"M5.59729 17.0161M8.25732 13.3L9.93104 13.3C10.0606 13.3 10.4192 13.3 10.4192 12.9613C10.4192 12.7222 10.21 12.7222 10.0207 12.7222L7.23116 12.7222C7.03191 12.7222 6.64337 12.7222 6.20501 13.1904C5.87625 13.5491 5.59729 14.0273 5.59729 14.087C5.59729 14.097 5.59729 14.1867 5.71684 14.1867C5.79654 14.1867 5.81647 14.1468 5.87625 14.0671C6.36442 13.3 6.93229 13.3 7.1415 13.3L7.9684 13.3L6.99206 16.498C6.95221 16.6175 6.89244 16.8268 6.89244 16.8666C6.89244 16.9762 6.96217 17.1356 7.18135 17.1356C7.51012 17.1356 7.55993 16.8567 7.58982 16.7072ZM7.58982 16.7072\" fill=\"black\"/>\n",
       " </g>\n",
       " <g transform=\"matrix(1.000000,0.000000,0.000000,1.000000,79.370079,-0.000000)\">\n",
       "  <path d=\"M-2.24974 4.28946M-0.54613 -0.00444135C-0.54613 -0.014404 -0.54613 -0.11403 -0.675644 -0.11403C-0.904785 -0.11403 -1.63206 -0.0343293 -1.89109 -0.014404C-1.97079 -0.00444135 -2.08038 0.00552129 -2.08038 0.184849C-2.08038 0.3044 -1.99071 0.3044 -1.84127 0.3044C-1.36307 0.3044 -1.34314 0.374139 -1.34314 0.473765C-1.34314 0.543504 -1.46269 1.01175 -1.53243 1.28074L-2.14015 3.72159C-2.18 3.87103 -2.24974 4.14998 -2.24974 4.1699C-2.24974 4.27949 -2.15011 4.28946 -2.09034 4.28946L-1.95086 4.28946C-1.25348 4.1699 -0.167549 3.78136 0.858603 2.82495C2.17367 1.59954 2.44266 0.244625 2.44266 0.154961C2.44266 -0.014404 2.32311 -0.11403 2.15375 -0.11403C2.07404 -0.11403 1.8449 -0.0741798 1.7652 0.214737C1.12759 2.47626 -0.386727 3.59207 -1.52247 3.96069ZM-1.52247 3.96069\" fill=\"black\"/>\n",
       "  <path d=\"M-7.59537 6.55071L7.59539 6.55071L7.59539 6.15222L-7.59537 6.15222Z\" fill=\"black\"/>\n",
       "  <path d=\"M-7.09724 14.8851M-6.33012 14.118L-5.27408 13.0919C-3.71991 11.717 -3.12215 11.179 -3.12215 10.1828C-3.12215 9.04704 -4.01879 8.25003 -5.23423 8.25003C-6.36001 8.25003 -7.09724 9.16659 -7.09724 10.0533C-7.09724 10.6112 -6.59911 10.6112 -6.56922 10.6112C-6.39986 10.6112 -6.05116 10.4916 -6.05116 10.0832C-6.05116 9.82412 -6.23049 9.56509 -6.57918 9.56509C-6.65888 9.56509 -6.67881 9.56509 -6.7087 9.57506C-6.47956 8.92749 -5.94157 8.55887 -5.36374 8.55887C-4.45714 8.55887 -4.02875 9.36584 -4.02875 10.1828C-4.02875 10.9798 -4.52688 11.7668 -5.07482 12.3845L-6.98765 14.5165C-7.09724 14.6261 -7.09724 14.646 -7.09724 14.8851L-3.4011 14.8851L-3.12215 13.1516L-3.37121 13.1516C-3.42103 13.4505 -3.49077 13.8889 -3.59039 14.0383C-3.66013 14.118 -4.31766 14.118 -4.53684 14.118ZM-4.53684 14.118\" fill=\"black\"/>\n",
       "  <path d=\"M-2.06609 14.8851M0.24524 8.08066C0.24524 8.0707 0.24524 7.97107 0.115726 7.97107C-0.113415 7.97107 -0.840688 8.05077 -1.09972 8.0707C-1.17942 8.08066 -1.28901 8.09062 -1.28901 8.26995C-1.28901 8.3895 -1.19934 8.3895 -1.0499 8.3895C-0.571696 8.3895 -0.551771 8.45924 -0.551771 8.55887L-0.581659 8.75812L-2.02624 14.4966C-2.06609 14.6361 -2.06609 14.656 -2.06609 14.7158C-2.06609 14.9449 -1.86684 14.9947 -1.77718 14.9947C-1.61777 14.9947 -1.45837 14.8752 -1.40856 14.7357L-1.21927 13.9785L-1.00009 13.0819C-0.940314 12.8627 -0.880538 12.6436 -0.830725 12.4144C-0.8108 12.3546 -0.731099 12.0259 -0.721136 11.9661C-0.691248 11.8764 -0.382406 11.3185 -0.0436765 11.0495C0.175502 10.8901 0.484343 10.7008 0.912737 10.7008C1.34113 10.7008 1.45072 11.0396 1.45072 11.3982C1.45072 11.9362 1.07214 13.0221 0.833036 13.6299C0.753335 13.859 0.703521 13.9785 0.703521 14.1778C0.703521 14.646 1.05221 14.9947 1.52046 14.9947C2.45695 14.9947 2.82556 13.5402 2.82556 13.4605C2.82556 13.3609 2.7359 13.3609 2.70601 13.3609C2.60639 13.3609 2.60639 13.3907 2.55657 13.5402C2.40713 14.0682 2.08833 14.7756 1.54038 14.7756C1.37102 14.7756 1.30128 14.6759 1.30128 14.4468C1.30128 14.1977 1.39094 13.9586 1.48061 13.7394C1.64001 13.311 2.08833 12.1255 2.08833 11.5477C2.08833 10.9001 1.68982 10.4817 0.942625 10.4817C0.314978 10.4817 -0.163228 10.7905 -0.531846 11.2488ZM-0.531846 11.2488\" fill=\"black\"/>\n",
       "  <path d=\"M3.56537 12.0071M6.64781 10.7378L6.4107 10.7378C6.38978 10.8912 6.32004 11.3027 6.22938 11.3724C6.17359 11.4143 5.6366 11.4143 5.53897 11.4143L4.25578 11.4143C4.98804 10.7657 5.23212 10.5704 5.65055 10.2427C6.16662 9.83121 6.64781 9.39883 6.64781 8.73632C6.64781 7.89248 5.90858 7.37642 5.01593 7.37642C4.15117 7.37642 3.56537 7.98314 3.56537 8.62474C3.56537 8.9804 3.86525 9.01527 3.93498 9.01527C4.10236 9.01527 4.3046 8.89672 4.3046 8.64566C4.3046 8.52013 4.25578 8.27604 3.89314 8.27604C4.10933 7.7809 4.58355 7.62748 4.91132 7.62748C5.60871 7.62748 5.97135 8.17144 5.97135 8.73632C5.97135 9.34304 5.53897 9.82424 5.31581 10.0753L3.63511 11.7351C3.56537 11.7978 3.56537 11.8118 3.56537 12.0071L6.4386 12.0071ZM6.4386 12.0071\" fill=\"black\"/>\n",
       " </g>\n",
       " <g transform=\"matrix(1.000000,0.000000,0.000000,1.000000,39.685039,-0.000000)\">\n",
       "  <path d=\"M-10.816 12.0689M-2.55259 8.7693C-2.3087 8.7693 -2.05047 8.7693 -2.05047 8.48237C-2.05047 8.19545 -2.3087 8.19545 -2.55259 8.19545L-10.3139 8.19545C-10.5578 8.19545 -10.816 8.19545 -10.816 8.48237C-10.816 8.7693 -10.5578 8.7693 -10.3139 8.7693ZM-10.3139 8.7693\" fill=\"black\"/>\n",
       "  <path d=\"M3.9751 6.42037M6.01744 0.0442767C6.01744 -0.194827 6.01744 -0.214752 5.7883 -0.214752C5.17062 0.422857 4.2939 0.422857 3.9751 0.422857L3.9751 0.731699C4.17435 0.731699 4.76215 0.731699 5.28021 0.47267L5.28021 5.63332C5.28021 5.99197 5.25032 6.11152 4.35368 6.11152L4.03488 6.11152L4.03488 6.42037C4.38357 6.39048 5.25032 6.39048 5.64882 6.39048C6.04733 6.39048 6.91408 6.39048 7.26277 6.42037L7.26277 6.11152L6.94397 6.11152C6.04733 6.11152 6.01744 6.00194 6.01744 5.63332ZM6.01744 5.63332\" fill=\"black\"/>\n",
       "  <path d=\"M0.346965 8.68162L10.8112 8.68162L10.8112 8.28313L0.346965 8.28313Z\" fill=\"black\"/>\n",
       "  <path d=\"M0.845097 17.0161M1.61222 16.2489L2.66826 15.2228C4.22243 13.8479 4.82019 13.31 4.82019 12.3137C4.82019 11.1779 3.92355 10.3809 2.70811 10.3809C1.58233 10.3809 0.845097 11.2975 0.845097 12.1842C0.845097 12.7421 1.34323 12.7421 1.37312 12.7421C1.54248 12.7421 1.89117 12.6225 1.89117 12.2141C1.89117 11.955 1.71185 11.696 1.36315 11.696C1.28345 11.696 1.26353 11.696 1.23364 11.706C1.46278 11.0584 2.00076 10.6898 2.5786 10.6898C3.4852 10.6898 3.91359 11.4968 3.91359 12.3137C3.91359 13.1107 3.41546 13.8977 2.86751 14.5154L0.954687 16.6474C0.845097 16.757 0.845097 16.777 0.845097 17.0161L4.54124 17.0161L4.82019 15.2826L4.57112 15.2826C4.52131 15.5814 4.45157 16.0198 4.35195 16.1692C4.28221 16.2489 3.62467 16.2489 3.4055 16.2489ZM3.4055 16.2489\" fill=\"black\"/>\n",
       "  <path d=\"M5.59729 17.0161M8.25732 13.3L9.93104 13.3C10.0606 13.3 10.4192 13.3 10.4192 12.9613C10.4192 12.7222 10.21 12.7222 10.0207 12.7222L7.23116 12.7222C7.03191 12.7222 6.64337 12.7222 6.20501 13.1904C5.87625 13.5491 5.59729 14.0273 5.59729 14.087C5.59729 14.097 5.59729 14.1867 5.71684 14.1867C5.79654 14.1867 5.81647 14.1468 5.87625 14.0671C6.36442 13.3 6.93229 13.3 7.1415 13.3L7.9684 13.3L6.99206 16.498C6.95221 16.6175 6.89244 16.8268 6.89244 16.8666C6.89244 16.9762 6.96217 17.1356 7.18135 17.1356C7.51012 17.1356 7.55993 16.8567 7.58982 16.7072ZM7.58982 16.7072\" fill=\"black\"/>\n",
       " </g>\n",
       " <g transform=\"matrix(1.000000,0.000000,0.000000,1.000000,0.000000,-0.000000)\">\n",
       "  <path d=\"M-13.1793 9.93801M-4.91584 6.63839C-4.67196 6.63839 -4.41373 6.63839 -4.41373 6.35146C-4.41373 6.06454 -4.67196 6.06454 -4.91584 6.06454L-12.6771 6.06454C-12.921 6.06454 -13.1793 6.06454 -13.1793 6.35146C-13.1793 6.63839 -12.921 6.63839 -12.6771 6.63839ZM-12.6771 6.63839\" fill=\"black\"/>\n",
       "  <path d=\"M3.32934 4.28946M5.03296 -0.00444135C5.03296 -0.014404 5.03296 -0.11403 4.90344 -0.11403C4.6743 -0.11403 3.94703 -0.0343293 3.688 -0.014404C3.6083 -0.00444135 3.49871 0.00552129 3.49871 0.184849C3.49871 0.3044 3.58837 0.3044 3.73781 0.3044C4.21602 0.3044 4.23594 0.374139 4.23594 0.473765C4.23594 0.543504 4.11639 1.01175 4.04665 1.28074L3.43893 3.72159C3.39908 3.87103 3.32934 4.14998 3.32934 4.1699C3.32934 4.27949 3.42897 4.28946 3.48875 4.28946L3.62822 4.28946C4.32561 4.1699 5.41154 3.78136 6.43769 2.82495C7.75276 1.59954 8.02175 0.244625 8.02175 0.154961C8.02175 -0.014404 7.9022 -0.11403 7.73283 -0.11403C7.65313 -0.11403 7.42399 -0.0741798 7.34429 0.214737C6.70668 2.47626 5.19236 3.59207 4.05662 3.96069ZM4.05662 3.96069\" fill=\"black\"/>\n",
       "  <path d=\"M-2.01629 6.55071L13.1745 6.55071L13.1745 6.15222L-2.01629 6.15222Z\" fill=\"black\"/>\n",
       "  <path d=\"M-1.73733 14.8851M0.912728 13.2413L0.912728 14.1081C0.912728 14.4667 0.892803 14.5763 0.155567 14.5763L-0.0536483 14.5763L-0.0536483 14.8851C0.35482 14.8553 0.872877 14.8553 1.29131 14.8553C1.70974 14.8553 2.23776 14.8553 2.64623 14.8851L2.64623 14.5763L2.43701 14.5763C1.69978 14.5763 1.67985 14.4667 1.67985 14.1081L1.67985 13.2413L2.67612 13.2413L2.67612 12.9325L1.67985 12.9325L1.67985 8.39947C1.67985 8.20021 1.67985 8.14044 1.52045 8.14044C1.43079 8.14044 1.4009 8.14044 1.3212 8.25999L-1.73733 12.9325L-1.73733 13.2413ZM-1.73733 13.2413M0.972504 12.9325L-1.45838 12.9325L0.972504 9.2164ZM0.972504 9.2164\" fill=\"black\"/>\n",
       "  <path d=\"M3.51299 14.8851M5.82432 8.08066C5.82432 8.0707 5.82432 7.97107 5.69481 7.97107C5.46567 7.97107 4.7384 8.05077 4.47937 8.0707C4.39967 8.08066 4.29008 8.09062 4.29008 8.26995C4.29008 8.3895 4.37974 8.3895 4.52918 8.3895C5.00739 8.3895 5.02731 8.45924 5.02731 8.55887L4.99743 8.75812L3.55284 14.4966C3.51299 14.6361 3.51299 14.656 3.51299 14.7158C3.51299 14.9449 3.71224 14.9947 3.80191 14.9947C3.96131 14.9947 4.12071 14.8752 4.17053 14.7357L4.35982 13.9785L4.57899 13.0819C4.63877 12.8627 4.69855 12.6436 4.74836 12.4144C4.76828 12.3546 4.84799 12.0259 4.85795 11.9661C4.88784 11.8764 5.19668 11.3185 5.53541 11.0495C5.75459 10.8901 6.06343 10.7008 6.49182 10.7008C6.92021 10.7008 7.0298 11.0396 7.0298 11.3982C7.0298 11.9362 6.65122 13.0221 6.41212 13.6299C6.33242 13.859 6.28261 13.9785 6.28261 14.1778C6.28261 14.646 6.6313 14.9947 7.09954 14.9947C8.03603 14.9947 8.40465 13.5402 8.40465 13.4605C8.40465 13.3609 8.31498 13.3609 8.2851 13.3609C8.18547 13.3609 8.18547 13.3907 8.13566 13.5402C7.98622 14.0682 7.66741 14.7756 7.11947 14.7756C6.9501 14.7756 6.88036 14.6759 6.88036 14.4468C6.88036 14.1977 6.97003 13.9586 7.05969 13.7394C7.21909 13.311 7.66741 12.1255 7.66741 11.5477C7.66741 10.9001 7.26891 10.4817 6.52171 10.4817C5.89406 10.4817 5.41586 10.7905 5.04724 11.2488ZM5.04724 11.2488\" fill=\"black\"/>\n",
       "  <path d=\"M9.14446 12.0071M12.2269 10.7378L11.9898 10.7378C11.9689 10.8912 11.8991 11.3027 11.8085 11.3724C11.7527 11.4143 11.2157 11.4143 11.1181 11.4143L9.83487 11.4143C10.5671 10.7657 10.8112 10.5704 11.2296 10.2427C11.7457 9.83121 12.2269 9.39883 12.2269 8.73632C12.2269 7.89248 11.4877 7.37642 10.595 7.37642C9.73026 7.37642 9.14446 7.98314 9.14446 8.62474C9.14446 8.9804 9.44433 9.01527 9.51407 9.01527C9.68144 9.01527 9.88368 8.89672 9.88368 8.64566C9.88368 8.52013 9.83487 8.27604 9.47223 8.27604C9.68842 7.7809 10.1626 7.62748 10.4904 7.62748C11.1878 7.62748 11.5504 8.17144 11.5504 8.73632C11.5504 9.34304 11.1181 9.82424 10.8949 10.0753L9.21419 11.7351C9.14446 11.7978 9.14446 11.8118 9.14446 12.0071L12.0177 12.0071ZM12.0177 12.0071\" fill=\"black\"/>\n",
       " </g>\n",
       " <g transform=\"matrix(1.000000,0.000000,0.000000,1.000000,119.055118,-79.370079)\">\n",
       "  <path d=\"M-1.60399 6.42037M0.438356 0.0442767C0.438356 -0.194827 0.438356 -0.214752 0.209215 -0.214752C-0.408468 0.422857 -1.28518 0.422857 -1.60399 0.422857L-1.60399 0.731699C-1.40473 0.731699 -0.816936 0.731699 -0.298879 0.47267L-0.298879 5.63332C-0.298879 5.99197 -0.328767 6.11152 -1.2254 6.11152L-1.54421 6.11152L-1.54421 6.42037C-1.19552 6.39048 -0.328767 6.39048 0.0697385 6.39048C0.468244 6.39048 1.33499 6.39048 1.68369 6.42037L1.68369 6.11152L1.36488 6.11152C0.468244 6.11152 0.438356 6.00194 0.438356 5.63332ZM0.438356 5.63332\" fill=\"black\"/>\n",
       "  <path d=\"M-5.3607 8.68162L5.3607 8.68162L5.3607 8.28313L-5.3607 8.28313Z\" fill=\"black\"/>\n",
       "  <path d=\"M-4.86256 17.0161M-4.09544 16.2489L-3.0394 15.2228C-1.48523 13.8479 -0.88747 13.31 -0.88747 12.3137C-0.88747 11.1779 -1.78411 10.3809 -2.99955 10.3809C-4.12533 10.3809 -4.86256 11.2975 -4.86256 12.1842C-4.86256 12.7421 -4.36443 12.7421 -4.33454 12.7421C-4.16518 12.7421 -3.81649 12.6225 -3.81649 12.2141C-3.81649 11.955 -3.99581 11.696 -4.34451 11.696C-4.42421 11.696 -4.44413 11.696 -4.47402 11.706C-4.24488 11.0584 -3.7069 10.6898 -3.12906 10.6898C-2.22246 10.6898 -1.79407 11.4968 -1.79407 12.3137C-1.79407 13.1107 -2.2922 13.8977 -2.84015 14.5154L-4.75297 16.6474C-4.86256 16.757 -4.86256 16.777 -4.86256 17.0161L-1.16642 17.0161L-0.88747 15.2826L-1.13654 15.2826C-1.18635 15.5814 -1.25609 16.0198 -1.35571 16.1692C-1.42545 16.2489 -2.08299 16.2489 -2.30217 16.2489ZM-2.30217 16.2489\" fill=\"black\"/>\n",
       "  <path d=\"M0.168585 17.0161M2.47992 10.2116C2.47992 10.2016 2.47992 10.102 2.3504 10.102C2.12126 10.102 1.39399 10.1817 1.13496 10.2016C1.05526 10.2116 0.945671 10.2215 0.945671 10.4009C0.945671 10.5204 1.03533 10.5204 1.18477 10.5204C1.66298 10.5204 1.68291 10.5902 1.68291 10.6898L1.65302 10.889L0.208435 16.6275C0.168585 16.767 0.168585 16.7869 0.168585 16.8467C0.168585 17.0758 0.367838 17.1256 0.457501 17.1256C0.616904 17.1256 0.776306 17.0061 0.826119 16.8666L1.01541 16.1095L1.23459 15.2128C1.29436 14.9936 1.35414 14.7745 1.40395 14.5453C1.42388 14.4855 1.50358 14.1568 1.51354 14.097C1.54343 14.0073 1.85227 13.4494 2.191 13.1804C2.41018 13.021 2.71902 12.8317 3.14741 12.8317C3.57581 12.8317 3.6854 13.1705 3.6854 13.5291C3.6854 14.0671 3.30682 15.153 3.06771 15.7608C2.98801 15.9899 2.9382 16.1095 2.9382 16.3087C2.9382 16.777 3.28689 17.1256 3.75514 17.1256C4.69162 17.1256 5.06024 15.6711 5.06024 15.5914C5.06024 15.4918 4.97058 15.4918 4.94069 15.4918C4.84106 15.4918 4.84106 15.5217 4.79125 15.6711C4.64181 16.1991 4.32301 16.9065 3.77506 16.9065C3.6057 16.9065 3.53596 16.8068 3.53596 16.5777C3.53596 16.3286 3.62562 16.0895 3.71528 15.8704C3.87469 15.442 4.32301 14.2564 4.32301 13.6786C4.32301 13.031 3.9245 12.6126 3.1773 12.6126C2.54966 12.6126 2.07145 12.9214 1.70283 13.3797ZM1.70283 13.3797\" fill=\"black\"/>\n",
       " </g>\n",
       " <g transform=\"matrix(1.000000,0.000000,0.000000,1.000000,39.685039,-79.370079)\">\n",
       "  <path d=\"M-10.9446 12.0689M-2.68115 8.7693C-2.43727 8.7693 -2.17903 8.7693 -2.17903 8.48237C-2.17903 8.19545 -2.43727 8.19545 -2.68115 8.19545L-10.4424 8.19545C-10.6863 8.19545 -10.9446 8.19545 -10.9446 8.48237C-10.9446 8.7693 -10.6863 8.7693 -10.4424 8.7693ZM-10.4424 8.7693\" fill=\"black\"/>\n",
       "  <path d=\"M3.97511 6.42037M6.01746 0.0442767C6.01746 -0.194827 6.01746 -0.214752 5.78832 -0.214752C5.17063 0.422857 4.29392 0.422857 3.97511 0.422857L3.97511 0.731699C4.17437 0.731699 4.76216 0.731699 5.28022 0.47267L5.28022 5.63332C5.28022 5.99197 5.25033 6.11152 4.3537 6.11152L4.03489 6.11152L4.03489 6.42037C4.38358 6.39048 5.25033 6.39048 5.64884 6.39048C6.04734 6.39048 6.91409 6.39048 7.26279 6.42037L7.26279 6.11152L6.94398 6.11152C6.04734 6.11152 6.01746 6.00194 6.01746 5.63332ZM6.01746 5.63332\" fill=\"black\"/>\n",
       "  <path d=\"M0.218404 8.68162L10.9398 8.68162L10.9398 8.28313L0.218404 8.28313Z\" fill=\"black\"/>\n",
       "  <path d=\"M0.716536 17.0161M1.48366 16.2489L2.5397 15.2228C4.09387 13.8479 4.69163 13.31 4.69163 12.3137C4.69163 11.1779 3.79499 10.3809 2.57955 10.3809C1.45377 10.3809 0.716536 11.2975 0.716536 12.1842C0.716536 12.7421 1.21467 12.7421 1.24456 12.7421C1.41392 12.7421 1.76261 12.6225 1.76261 12.2141C1.76261 11.955 1.58329 11.696 1.23459 11.696C1.15489 11.696 1.13497 11.696 1.10508 11.706C1.33422 11.0584 1.8722 10.6898 2.45004 10.6898C3.35664 10.6898 3.78503 11.4968 3.78503 12.3137C3.78503 13.1107 3.2869 13.8977 2.73895 14.5154L0.826125 16.6474C0.716536 16.757 0.716536 16.777 0.716536 17.0161L4.41268 17.0161L4.69163 15.2826L4.44256 15.2826C4.39275 15.5814 4.32301 16.0198 4.22339 16.1692C4.15365 16.2489 3.49611 16.2489 3.27693 16.2489ZM3.27693 16.2489\" fill=\"black\"/>\n",
       "  <path d=\"M5.74768 17.0161M8.05902 10.2116C8.05902 10.2016 8.05902 10.102 7.9295 10.102C7.70036 10.102 6.97309 10.1817 6.71406 10.2016C6.63436 10.2116 6.52477 10.2215 6.52477 10.4009C6.52477 10.5204 6.61443 10.5204 6.76387 10.5204C7.24208 10.5204 7.26201 10.5902 7.26201 10.6898L7.23212 10.889L5.78754 16.6275C5.74768 16.767 5.74768 16.7869 5.74768 16.8467C5.74768 17.0758 5.94694 17.1256 6.0366 17.1256C6.196 17.1256 6.35541 17.0061 6.40522 16.8666L6.59451 16.1095L6.81369 15.2128C6.87346 14.9936 6.93324 14.7745 6.98305 14.5453C7.00298 14.4855 7.08268 14.1568 7.09264 14.097C7.12253 14.0073 7.43137 13.4494 7.7701 13.1804C7.98928 13.021 8.29812 12.8317 8.72651 12.8317C9.15491 12.8317 9.2645 13.1705 9.2645 13.5291C9.2645 14.0671 8.88592 15.153 8.64681 15.7608C8.56711 15.9899 8.5173 16.1095 8.5173 16.3087C8.5173 16.777 8.86599 17.1256 9.33423 17.1256C10.2707 17.1256 10.6393 15.6711 10.6393 15.5914C10.6393 15.4918 10.5497 15.4918 10.5198 15.4918C10.4202 15.4918 10.4202 15.5217 10.3703 15.6711C10.2209 16.1991 9.90211 16.9065 9.35416 16.9065C9.1848 16.9065 9.11506 16.8068 9.11506 16.5777C9.11506 16.3286 9.20472 16.0895 9.29438 15.8704C9.45379 15.442 9.90211 14.2564 9.90211 13.6786C9.90211 13.031 9.5036 12.6126 8.7564 12.6126C8.12876 12.6126 7.65055 12.9214 7.28193 13.3797ZM7.28193 13.3797\" fill=\"black\"/>\n",
       " </g>\n",
       " <path d=\"M0 -49.6063L158.74 -49.6063\" stroke=\"black\"/>\n",
       "</svg>\n"
      ],
      "text/plain": [
       "<pyx.canvas.canvas at 0x7f0cf1ba8e10>"
      ]
     },
     "metadata": {},
     "output_type": "display_data"
    }
   ],
   "source": [
    "for w in burgers[-2].GB():\n",
    "    print(w.poly/(4*h**2))\n",
    "    display((sum(Symbol(m.T_latex())*c for m, c in w.poly)/(4*h**2)).expand().collect([tau, h]))\n",
    "    \n",
    "    frm, l = [pyx.text.halign.boxcenter, pyx.text.valign.top], 1.4\n",
    "    pyx.unit.set(wscale=1)\n",
    "    pyx.text.set(pyx.text.LatexEngine)\n",
    "\n",
    "    canvas = pyx.canvas.canvas()\n",
    "    for m, c in w.poly:\n",
    "        if m.position() == 4:\n",
    "            canvas.text(m[1]*l, m[0]*l, fr\"\\Large${sympy.latex(sympy.cancel(c/(4*h**2)))}$\", frm)\n",
    "        if m.position() == 5:\n",
    "            canvas.text(m[1]*l, m[0]*l+2*l, fr\"\\Large${sympy.latex(c/(4*h**2))}$\", frm)\n",
    "    canvas.stroke(pyx.path.line(0, l*1.25, 4*l, l*1.25))\n",
    "    display(canvas)"
   ]
  },
  {
   "cell_type": "code",
   "execution_count": 23,
   "id": "e67808bd",
   "metadata": {},
   "outputs": [],
   "source": [
    "var = 'n, j'.split(', ')\n",
    "fun = 'uxxx, uxx, ux, ut, fx, u, f'.split(', ')\n",
    "Monom.init(var, fun)\n",
    "T = PolySchem.T\n",
    "var, fun = PolySchem.init()\n",
    "n, j = var\n",
    "uxxx, uxx, ux, ut, fx, u, f = fun"
   ]
  },
  {
   "cell_type": "code",
   "execution_count": 24,
   "id": "c697e7f0",
   "metadata": {},
   "outputs": [
    {
     "name": "stdout",
     "output_type": "stream",
     "text": [
      "prolong <= fx*j\n",
      "T(fx, j)\n",
      "prolong <= ut*j\n",
      "T(ut, j)\n",
      "prolong <= ux*j\n",
      "T(ux, j)\n",
      "prolong <= uxx*j\n",
      "T(uxx, j)\n",
      "prolong <= uxxx\n",
      "T(uxxx)\n",
      "prolong <= uxxx*j\n",
      "uxxx*j\n",
      "T(uxx)\n",
      "prolong <= uxx*j\n",
      "uxx*j\n",
      "T(ux)\n",
      "prolong <= ux*j\n",
      "ux*j\n",
      "T(u, n, j, 3)\n",
      "prolongAll\n",
      "crit1: 0\n",
      "crit2: 0\n",
      " time: 0.05 sec\n",
      "    count: 6\n",
      "reduction: 11\n",
      "       HP: s^2/2 + 15s/2 + 1\n"
     ]
    }
   ],
   "source": [
    "KDV = Forest(Janet)\n",
    "res = ginvMin((\n",
    "T(ut) + T(fx) + T(uxxx),\\\n",
    "T(ut, j) - (T(u, n, j) - (T(u, j, 2) + T(u))/2)/tau,\\\n",
    "T(fx, j)*2*h - (T(f, j, 2) - T(f)),\\\n",
    "T(ux, j)*2*h - (T(u, j, 2) - T(u)),\\\n",
    "T(uxx, j)*2*h - (T(ux, j, 2) - T(ux)),\\\n",
    "T(uxxx, j)*2*h - (T(uxx, j, 2) - T(uxx))),\\\n",
    "KDV, level=1)\n",
    "print(f\"crit1: {res[1]}\")\n",
    "print(f\"crit2: {res[2]}\")\n",
    "print(f\" time: {res[0]:.2f} sec\")\n",
    "print(f\"    count: {KDV.count()}\")\n",
    "print(f\"reduction: {KDV.reduction()}\")\n",
    "print(f\"       HP: {KDV.HP()}\")"
   ]
  },
  {
   "cell_type": "code",
   "execution_count": 24,
   "id": "a3d6a164",
   "metadata": {},
   "outputs": [
    {
     "name": "stdout",
     "output_type": "stream",
     "text": [
      "T(u, n, j, 3)*(-1/tau) + T(u, j, 6)*(-1/(8*h**3)) + T(u, j, 4)*((4*h**3/tau + 3)/(8*h**3)) + T(u, j, 3)*1/(2*tau) + T(u, j, 2)*(-3/(8*h**3)) + T(u)*1/(8*h**3) + T(f, j, 4)*(-1/(2*h)) + T(f, j, 2)*1/(2*h)\n"
     ]
    }
   ],
   "source": [
    "for w in KDV[-2].GB():\n",
    "    print(w.poly/(8*h**3))"
   ]
  },
  {
   "cell_type": "code",
   "execution_count": 29,
   "id": "e3fbc1a6",
   "metadata": {},
   "outputs": [
    {
     "name": "stdout",
     "output_type": "stream",
     "text": [
      "T(u, n, j, 3)*(-1/tau) + T(u, j, 6)*(-1/(8*h**3)) + T(u, j, 4)*((4*h**3/tau + 3)/(8*h**3)) + T(u, j, 2)*((4*h**3/tau - 3)/(8*h**3)) + T(u)*1/(8*h**3) + T(f, j, 4)*(-1/(2*h)) + T(f, j, 2)*1/(2*h)\n"
     ]
    },
    {
     "data": {
      "image/png": "[encoded data removed]",
      "text/latex": [
       "$\\displaystyle \\frac{- {u}_{{n} + 1\\, {j} + 3} + \\frac{{u}_{{n}\\, {j} + 2}}{2} + \\frac{{u}_{{n}\\, {j} + 4}}{2}}{\\tau} + \\frac{\\frac{{f}_{{n}\\, {j} + 2}}{2} - \\frac{{f}_{{n}\\, {j} + 4}}{2}}{h} + \\frac{- \\frac{3 {u}_{{n}\\, {j} + 2}}{8} + \\frac{3 {u}_{{n}\\, {j} + 4}}{8} - \\frac{{u}_{{n}\\, {j} + 6}}{8} + \\frac{{u}_{{n}\\, {j}}}{8}}{h^{3}}$"
      ],
      "text/plain": [
       "                           {u}_{{n}\\, {j} + 2}   {u}_{{n}\\, {j} + 4}   {f}_{{n}\\, {j} + 2}   {f}_{{n}\n",
       "-{u}_{{n} + 1\\, {j} + 3} + ─────────────────── + ───────────────────   ─────────────────── - ────────\n",
       "                                    2                     2                     2                    \n",
       "──────────────────────────────────────────────────────────────────── + ──────────────────────────────\n",
       "                                 τ                                                         h         \n",
       "                                                                                                     \n",
       "\n",
       "\\, {j} + 4}     3⋅{u}_{{n}\\, {j} + 2}   3⋅{u}_{{n}\\, {j} + 4}   {u}_{{n}\\, {j} + 6}   {u}_{{n}\\, {j}}\n",
       "───────────   - ───────────────────── + ───────────────────── - ─────────────────── + ───────────────\n",
       " 2                        8                       8                      8                   8       \n",
       "─────────── + ───────────────────────────────────────────────────────────────────────────────────────\n",
       "                                                          3                                          \n",
       "                                                         h                                           "
      ]
     },
     "metadata": {},
     "output_type": "display_data"
    },
    {
     "data": {
      "image/png": "[encoded data removed]",
      "image/svg+xml": [
       "<?xml version=\"1.0\" encoding=\"utf-8\"?>\n",
       "<svg xmlns=\"http://www.w3.org/2000/svg\" fill=\"none\" version=\"1.1\" viewBox=\"-9.79088 -80.3701 263.271 100.075\" x=\"-9.79088pt\" y=\"-80.3701pt\" width=\"263.271pt\" height=\"100.075pt\" stroke-width=\"0.566929\" stroke-miterlimit=\"10.000000\">\n",
       " <g transform=\"matrix(1.000000,0.000000,0.000000,1.000000,119.055118,-39.685039)\">\n",
       "  <path d=\"M-8.32532 12.0689M-0.0619144 8.7693C0.181971 8.7693 0.440202 8.7693 0.440202 8.48237C0.440202 8.19545 0.181971 8.19545 -0.0619144 8.19545L-7.82321 8.19545C-8.06709 8.19545 -8.32532 8.19545 -8.32532 8.48237C-8.32532 8.7693 -8.06709 8.7693 -7.82321 8.7693ZM-7.82321 8.7693\" fill=\"black\"/>\n",
       "  <path d=\"M3.97511 6.42037M6.01746 0.0442767C6.01746 -0.194827 6.01746 -0.214752 5.78832 -0.214752C5.17063 0.422857 4.29392 0.422857 3.97511 0.422857L3.97511 0.731699C4.17437 0.731699 4.76216 0.731699 5.28022 0.47267L5.28022 5.63332C5.28022 5.99197 5.25033 6.11152 4.3537 6.11152L4.03489 6.11152L4.03489 6.42037C4.38358 6.39048 5.25033 6.39048 5.64884 6.39048C6.04734 6.39048 6.91409 6.39048 7.26279 6.42037L7.26279 6.11152L6.94398 6.11152C6.04734 6.11152 6.01746 6.00194 6.01746 5.63332ZM6.01746 5.63332\" fill=\"black\"/>\n",
       "  <path d=\"M2.83764 8.68162L8.32056 8.68162L8.32056 8.28313L2.83764 8.28313Z\" fill=\"black\"/>\n",
       "  <path d=\"M3.10663 17.0161M5.76666 13.3L7.44038 13.3C7.56989 13.3 7.92855 13.3 7.92855 12.9613C7.92855 12.7222 7.71933 12.7222 7.53004 12.7222L4.7405 12.7222C4.54125 12.7222 4.15271 12.7222 3.71435 13.1904C3.38559 13.5491 3.10663 14.0273 3.10663 14.087C3.10663 14.097 3.10663 14.1867 3.22618 14.1867C3.30588 14.1867 3.32581 14.1468 3.38559 14.0671C3.87376 13.3 4.44163 13.3 4.65084 13.3L5.47774 13.3L4.5014 16.498C4.46155 16.6175 4.40178 16.8268 4.40178 16.8666C4.40178 16.9762 4.47151 17.1356 4.69069 17.1356C5.01946 17.1356 5.06927 16.8567 5.09916 16.7072ZM5.09916 16.7072\" fill=\"black\"/>\n",
       " </g>\n",
       " <g transform=\"matrix(1.000000,0.000000,0.000000,1.000000,238.110236,-0.000000)\">\n",
       "  <path d=\"M-13.1793 12.0689M-4.91584 8.7693C-4.67196 8.7693 -4.41373 8.7693 -4.41373 8.48237C-4.41373 8.19545 -4.67196 8.19545 -4.91584 8.19545L-12.6771 8.19545C-12.921 8.19545 -13.1793 8.19545 -13.1793 8.48237C-13.1793 8.7693 -12.921 8.7693 -12.6771 8.7693ZM-12.6771 8.7693\" fill=\"black\"/>\n",
       "  <path d=\"M3.9751 6.42037M6.01744 0.0442767C6.01744 -0.194827 6.01744 -0.214752 5.7883 -0.214752C5.17062 0.422857 4.2939 0.422857 3.9751 0.422857L3.9751 0.731699C4.17435 0.731699 4.76215 0.731699 5.28021 0.47267L5.28021 5.63332C5.28021 5.99197 5.25032 6.11152 4.35368 6.11152L4.03488 6.11152L4.03488 6.42037C4.38357 6.39048 5.25032 6.39048 5.64882 6.39048C6.04733 6.39048 6.91408 6.39048 7.26277 6.42037L7.26277 6.11152L6.94397 6.11152C6.04733 6.11152 6.01744 6.00194 6.01744 5.63332ZM6.01744 5.63332\" fill=\"black\"/>\n",
       "  <path d=\"M-2.01629 8.68162L13.1745 8.68162L13.1745 8.28313L-2.01629 8.28313Z\" fill=\"black\"/>\n",
       "  <path d=\"M-1.59786 17.0161M-0.392378 12.4631C-0.85066 12.1642 -0.89051 11.8255 -0.89051 11.6562C-0.89051 11.0484 -0.242938 10.63 0.464409 10.63C1.19168 10.63 1.82929 11.1481 1.82929 11.8654C1.82929 12.4332 1.44075 12.9114 0.842989 13.2601ZM0.842989 13.2601M1.06217 13.4096C1.77948 13.041 2.26765 12.5229 2.26765 11.8654C2.26765 10.9488 1.38097 10.3809 0.474372 10.3809C-0.521892 10.3809 -1.32887 11.1182 -1.32887 12.0447C-1.32887 12.224 -1.30894 12.6723 -0.89051 13.1406C-0.780921 13.2601 -0.412303 13.5092 -0.163237 13.6786C-0.74107 13.9675 -1.59786 14.5254 -1.59786 15.5117C-1.59786 16.5677 -0.581668 17.2352 0.464409 17.2352C1.59019 17.2352 2.53664 16.4083 2.53664 15.3423C2.53664 14.9837 2.42705 14.5354 2.04847 14.1169C1.85918 13.9077 1.69978 13.8081 1.06217 13.4096ZM1.06217 13.4096M0.0659034 13.828L1.29131 14.6051C1.57026 14.7944 2.03851 15.0933 2.03851 15.701C2.03851 16.4382 1.29131 16.9563 0.474372 16.9563C-0.382415 16.9563 -1.09973 16.3386 -1.09973 15.5117C-1.09973 14.9339 -0.780921 14.2963 0.0659034 13.828ZM0.0659034 13.828\" fill=\"black\"/>\n",
       "  <path d=\"M3.51299 17.0161M5.82432 10.2116C5.82432 10.2016 5.82432 10.102 5.69481 10.102C5.46567 10.102 4.7384 10.1817 4.47937 10.2016C4.39967 10.2116 4.29008 10.2215 4.29008 10.4009C4.29008 10.5204 4.37974 10.5204 4.52918 10.5204C5.00739 10.5204 5.02731 10.5902 5.02731 10.6898L4.99743 10.889L3.55284 16.6275C3.51299 16.767 3.51299 16.7869 3.51299 16.8467C3.51299 17.0758 3.71224 17.1256 3.80191 17.1256C3.96131 17.1256 4.12071 17.0061 4.17053 16.8666L4.35982 16.1095L4.57899 15.2128C4.63877 14.9936 4.69855 14.7745 4.74836 14.5453C4.76828 14.4855 4.84799 14.1568 4.85795 14.097C4.88784 14.0073 5.19668 13.4494 5.53541 13.1804C5.75459 13.021 6.06343 12.8317 6.49182 12.8317C6.92021 12.8317 7.0298 13.1705 7.0298 13.5291C7.0298 14.0671 6.65122 15.153 6.41212 15.7608C6.33242 15.9899 6.28261 16.1095 6.28261 16.3087C6.28261 16.777 6.6313 17.1256 7.09954 17.1256C8.03603 17.1256 8.40465 15.6711 8.40465 15.5914C8.40465 15.4918 8.31498 15.4918 8.2851 15.4918C8.18547 15.4918 8.18547 15.5217 8.13566 15.6711C7.98622 16.1991 7.66741 16.9065 7.11947 16.9065C6.9501 16.9065 6.88036 16.8068 6.88036 16.5777C6.88036 16.3286 6.97003 16.0895 7.05969 15.8704C7.21909 15.442 7.66741 14.2564 7.66741 13.6786C7.66741 13.031 7.26891 12.6126 6.52171 12.6126C5.89406 12.6126 5.41586 12.9214 5.04724 13.3797ZM5.04724 13.3797\" fill=\"black\"/>\n",
       "  <path d=\"M9.08169 14.138M10.609 11.8087C11.1529 11.8087 11.5435 12.1853 11.5435 12.9315C11.5435 13.7962 11.0413 14.0543 10.6369 14.0543C10.3579 14.0543 9.74421 13.9776 9.4513 13.5661C9.77908 13.5522 9.85579 13.322 9.85579 13.1756C9.85579 12.9524 9.68842 12.792 9.47223 12.792C9.27696 12.792 9.08169 12.9106 9.08169 13.1965C9.08169 13.852 9.80697 14.2774 10.6508 14.2774C11.6202 14.2774 12.2897 13.6289 12.2897 12.9315C12.2897 12.3875 11.8433 11.8436 11.0762 11.6832C11.8085 11.4182 12.0735 10.8951 12.0735 10.4697C12.0735 9.91878 11.4389 9.50733 10.6648 9.50733C9.89066 9.50733 9.29788 9.88391 9.29788 10.4418C9.29788 10.6789 9.4513 10.8114 9.66052 10.8114C9.87671 10.8114 10.0162 10.651 10.0162 10.4558C10.0162 10.2535 9.87671 10.1071 9.66052 10.0931C9.9046 9.78628 10.3858 9.70957 10.6438 9.70957C10.9577 9.70957 11.397 9.86299 11.397 10.4697C11.397 10.7626 11.2994 11.0834 11.1181 11.2996C10.8879 11.5646 10.6926 11.5786 10.344 11.5995C10.1696 11.6134 10.1557 11.6134 10.1208 11.6204C10.1068 11.6204 10.0511 11.6344 10.0511 11.7111C10.0511 11.8087 10.1138 11.8087 10.2324 11.8087ZM10.2324 11.8087\" fill=\"black\"/>\n",
       " </g>\n",
       " <g transform=\"matrix(1.000000,0.000000,0.000000,1.000000,158.740157,-0.000000)\">\n",
       "  <path d=\"M-16.4229 8.10962M-13.7729 6.46578L-13.7729 7.33253C-13.7729 7.69119 -13.7928 7.80078 -14.53 7.80078L-14.7392 7.80078L-14.7392 8.10962C-14.3308 8.07973 -13.8127 8.07973 -13.3943 8.07973C-12.9759 8.07973 -12.4478 8.07973 -12.0394 8.10962L-12.0394 7.80078L-12.2486 7.80078C-12.9858 7.80078 -13.0057 7.69119 -13.0057 7.33253L-13.0057 6.46578L-12.0095 6.46578L-12.0095 6.15694L-13.0057 6.15694L-13.0057 1.62394C-13.0057 1.42469 -13.0057 1.36491 -13.1651 1.36491C-13.2548 1.36491 -13.2847 1.36491 -13.3644 1.48446L-16.4229 6.15694L-16.4229 6.46578ZM-16.4229 6.46578M-13.7131 6.15694L-16.144 6.15694L-13.7131 2.44088ZM-13.7131 2.44088\" fill=\"black\"/>\n",
       "  <path d=\"M-11.1726 8.10962M-8.86127 1.30514C-8.86127 1.29517 -8.86127 1.19555 -8.99078 1.19555C-9.21992 1.19555 -9.94719 1.27525 -10.2062 1.29517C-10.2859 1.30514 -10.3955 1.3151 -10.3955 1.49443C-10.3955 1.61398 -10.3058 1.61398 -10.1564 1.61398C-9.6782 1.61398 -9.65828 1.68372 -9.65828 1.78334L-9.68817 1.9826L-11.1327 7.72108C-11.1726 7.86055 -11.1726 7.88048 -11.1726 7.94025C-11.1726 8.16939 -10.9733 8.21921 -10.8837 8.21921C-10.7243 8.21921 -10.5649 8.09966 -10.5151 7.96018L-10.3258 7.20302L-10.1066 6.30638C-10.0468 6.0872 -9.98704 5.86802 -9.93723 5.63888C-9.91731 5.57911 -9.8376 5.25034 -9.82764 5.19057C-9.79775 5.1009 -9.48891 4.54299 -9.15018 4.274C-8.931 4.1146 -8.62216 3.92531 -8.19377 3.92531C-7.76538 3.92531 -7.65579 4.26404 -7.65579 4.62269C-7.65579 5.16068 -8.03437 6.24661 -8.27347 6.85433C-8.35317 7.08347 -8.40298 7.20302 -8.40298 7.40227C-8.40298 7.87052 -8.05429 8.21921 -7.58605 8.21921C-6.64956 8.21921 -6.28094 6.76466 -6.28094 6.68496C-6.28094 6.58533 -6.37061 6.58533 -6.40049 6.58533C-6.50012 6.58533 -6.50012 6.61522 -6.54993 6.76466C-6.69937 7.29268 -7.01818 8.00003 -7.56612 8.00003C-7.73549 8.00003 -7.80523 7.9004 -7.80523 7.67126C-7.80523 7.4222 -7.71556 7.18309 -7.6259 6.96392C-7.4665 6.53552 -7.01818 5.34997 -7.01818 4.77213C-7.01818 4.12456 -7.41668 3.70613 -8.16388 3.70613C-8.79153 3.70613 -9.26973 4.01497 -9.63835 4.47326ZM-9.63835 4.47326\" fill=\"black\"/>\n",
       "  <path d=\"M-5.6039 4.49425M-4.07663 2.16499C-3.53267 2.16499 -3.14213 2.54158 -3.14213 3.28778C-3.14213 4.15254 -3.64425 4.41057 -4.04873 4.41057C-4.32769 4.41057 -4.94138 4.33386 -5.23429 3.9224C-4.90651 3.90845 -4.8298 3.67831 -4.8298 3.53186C-4.8298 3.3087 -4.99718 3.1483 -5.21336 3.1483C-5.40863 3.1483 -5.6039 3.26686 -5.6039 3.55279C-5.6039 4.20833 -4.87862 4.63373 -4.03478 4.63373C-3.06542 4.63373 -2.39593 3.98516 -2.39593 3.28778C-2.39593 2.74382 -2.84226 2.19986 -3.60938 2.03946C-2.87713 1.77445 -2.61212 1.25142 -2.61212 0.826011C-2.61212 0.275077 -3.24674 -0.13638 -4.02084 -0.13638C-4.79493 -0.13638 -5.38771 0.240208 -5.38771 0.798115C-5.38771 1.03523 -5.23429 1.16773 -5.02507 1.16773C-4.80888 1.16773 -4.6694 1.00733 -4.6694 0.812063C-4.6694 0.609822 -4.80888 0.463371 -5.02507 0.449423C-4.78099 0.142574 -4.29979 0.0658614 -4.04176 0.0658614C-3.72793 0.0658614 -3.28858 0.219286 -3.28858 0.826011C-3.28858 1.11891 -3.38622 1.43971 -3.56754 1.6559C-3.79767 1.92091 -3.99294 1.93485 -4.34163 1.95577C-4.51598 1.96972 -4.52993 1.96972 -4.5648 1.9767C-4.57874 1.9767 -4.63453 1.99064 -4.63453 2.06736C-4.63453 2.16499 -4.57177 2.16499 -4.45321 2.16499ZM-4.45321 2.16499\" fill=\"black\"/>\n",
       "  <path d=\"M-0.95321 8.10962M2.5636 5.81821L5.34318 5.81821C5.48266 5.81821 5.67195 5.81821 5.67195 5.61896C5.67195 5.41971 5.48266 5.41971 5.34318 5.41971L2.5636 5.41971L2.5636 2.63017C2.5636 2.49069 2.5636 2.3014 2.36435 2.3014C2.1651 2.3014 2.1651 2.49069 2.1651 2.63017L2.1651 5.41971L-0.624443 5.41971C-0.76392 5.41971 -0.95321 5.41971 -0.95321 5.61896C-0.95321 5.81821 -0.76392 5.81821 -0.624443 5.81821L2.1651 5.81821L2.1651 8.60775C2.1651 8.74723 2.1651 8.93652 2.36435 8.93652C2.5636 8.93652 2.5636 8.74723 2.5636 8.60775ZM2.5636 8.60775M6.64828 8.10962M9.11902 4.60277C9.93596 4.33378 10.5138 3.63639 10.5138 2.84934C10.5138 2.03241 9.63708 1.4745 8.68066 1.4745C7.67444 1.4745 6.91728 2.07226 6.91728 2.82942C6.91728 3.15819 7.13645 3.34748 7.42537 3.34748C7.73421 3.34748 7.93346 3.1283 7.93346 2.83938C7.93346 2.34125 7.46522 2.34125 7.31578 2.34125C7.62462 1.85308 8.28216 1.72357 8.64081 1.72357C9.04928 1.72357 9.59723 1.94274 9.59723 2.83938C9.59723 2.95893 9.5773 3.53677 9.31827 3.97512C9.01939 4.45333 8.68066 4.48322 8.4316 4.49318C8.3519 4.50314 8.11279 4.52307 8.04305 4.52307C7.96335 4.53303 7.89361 4.54299 7.89361 4.64262C7.89361 4.75221 7.96335 4.75221 8.13272 4.75221L8.57107 4.75221C9.38801 4.75221 9.75663 5.42967 9.75663 6.40601C9.75663 7.76093 9.06921 8.04984 8.63085 8.04984C8.20246 8.04984 7.45526 7.88048 7.10657 7.29268C7.45526 7.3425 7.7641 7.12332 7.7641 6.74474C7.7641 6.38608 7.49511 6.18683 7.20619 6.18683C6.96709 6.18683 6.64828 6.32631 6.64828 6.76466C6.64828 7.67126 7.57481 8.3288 8.66074 8.3288C9.87618 8.3288 10.7828 7.4222 10.7828 6.40601C10.7828 5.58907 10.1551 4.81198 9.11902 4.60277ZM9.11902 4.60277\" fill=\"black\"/>\n",
       "  <path d=\"M11.488 8.10962M14.148 4.39355L15.8217 4.39355C15.9512 4.39355 16.3099 4.39355 16.3099 4.05482C16.3099 3.81572 16.1007 3.81572 15.9114 3.81572L13.1218 3.81572C12.9226 3.81572 12.534 3.81572 12.0957 4.28397C11.7669 4.64262 11.488 5.12083 11.488 5.1806C11.488 5.19057 11.488 5.28023 11.6075 5.28023C11.6872 5.28023 11.7071 5.24038 11.7669 5.16068C12.2551 4.39355 12.8229 4.39355 13.0322 4.39355L13.8591 4.39355L12.8827 7.59156C12.8429 7.71111 12.7831 7.92033 12.7831 7.96018C12.7831 8.06977 12.8528 8.22917 13.072 8.22917C13.4008 8.22917 13.4506 7.95022 13.4805 7.80078ZM13.4805 7.80078\" fill=\"black\"/>\n",
       "  <path d=\"M-16.7019 10.3709L16.7019 10.3709L16.7019 9.97238L-16.7019 9.97238Z\" fill=\"black\"/>\n",
       "  <path d=\"M-9.9184 18.7053M-8.71292 14.1524C-9.1712 13.8535 -9.21105 13.5148 -9.21105 13.3454C-9.21105 12.7377 -8.56348 12.3193 -7.85613 12.3193C-7.12886 12.3193 -6.49125 12.8373 -6.49125 13.5546C-6.49125 14.1225 -6.8798 14.6007 -7.47755 14.9494ZM-7.47755 14.9494M-7.25838 15.0988C-6.54107 14.7302 -6.0529 14.2122 -6.0529 13.5546C-6.0529 12.6381 -6.93957 12.0702 -7.84617 12.0702C-8.84244 12.0702 -9.64941 12.8074 -9.64941 13.7339C-9.64941 13.9133 -9.62948 14.3616 -9.21105 14.8298C-9.10146 14.9494 -8.73285 15.1985 -8.48378 15.3678C-9.06161 15.6567 -9.9184 16.2146 -9.9184 17.2009C-9.9184 18.257 -8.90221 18.9245 -7.85613 18.9245C-6.73036 18.9245 -5.78391 18.0976 -5.78391 17.0316C-5.78391 16.6729 -5.89349 16.2246 -6.27207 15.8062C-6.46136 15.597 -6.62077 15.4973 -7.25838 15.0988ZM-7.25838 15.0988M-8.25464 15.5173L-7.02924 16.2943C-6.75028 16.4836 -6.28204 16.7825 -6.28204 17.3902C-6.28204 18.1275 -7.02924 18.6455 -7.84617 18.6455C-8.70296 18.6455 -9.42027 18.0278 -9.42027 17.2009C-9.42027 16.6231 -9.10146 15.9855 -8.25464 15.5173ZM-8.25464 15.5173\" fill=\"black\"/>\n",
       "  <path d=\"M-4.80755 18.7053M-2.49622 11.9008C-2.49622 11.8909 -2.49622 11.7912 -2.62573 11.7912C-2.85487 11.7912 -3.58215 11.8709 -3.84118 11.8909C-3.92088 11.9008 -4.03047 11.9108 -4.03047 12.0901C-4.03047 12.2097 -3.9408 12.2097 -3.79136 12.2097C-3.31316 12.2097 -3.29323 12.2794 -3.29323 12.379L-3.32312 12.5783L-4.7677 18.3168C-4.80755 18.4562 -4.80755 18.4762 -4.80755 18.5359C-4.80755 18.7651 -4.6083 18.8149 -4.51863 18.8149C-4.35923 18.8149 -4.19983 18.6953 -4.15002 18.5559L-3.96073 17.7987L-3.74155 16.9021C-3.68177 16.6829 -3.622 16.4637 -3.57218 16.2346C-3.55226 16.1748 -3.47256 15.846 -3.4626 15.7863C-3.43271 15.6966 -3.12387 15.1387 -2.78514 14.8697C-2.56596 14.7103 -2.25712 14.521 -1.82872 14.521C-1.40033 14.521 -1.29074 14.8597 -1.29074 15.2184C-1.29074 15.7564 -1.66932 16.8423 -1.90842 17.45C-1.98812 17.6792 -2.03794 17.7987 -2.03794 17.998C-2.03794 18.4662 -1.68925 18.8149 -1.221 18.8149C-0.284513 18.8149 0.0841048 17.3604 0.0841048 17.2806C0.0841048 17.181 -0.00555899 17.181 -0.0354469 17.181C-0.135073 17.181 -0.135073 17.2109 -0.184887 17.3604C-0.334326 17.8884 -0.653131 18.5957 -1.20108 18.5957C-1.37044 18.5957 -1.44018 18.4961 -1.44018 18.267C-1.44018 18.0179 -1.35052 17.7788 -1.26085 17.5596C-1.10145 17.1312 -0.653131 15.9457 -0.653131 15.3678C-0.653131 14.7203 -1.05164 14.3018 -1.79883 14.3018C-2.42648 14.3018 -2.90469 14.6107 -3.2733 15.0689ZM-3.2733 15.0689\" fill=\"black\"/>\n",
       "  <path d=\"M0.761147 15.8272M2.28842 13.4979C2.83238 13.4979 3.22292 13.8745 3.22292 14.6207C3.22292 15.4855 2.7208 15.7435 2.31632 15.7435C2.03736 15.7435 1.42366 15.6668 1.13076 15.2554C1.45853 15.2414 1.53524 15.0113 1.53524 14.8648C1.53524 14.6417 1.36787 14.4813 1.15168 14.4813C0.956415 14.4813 0.761147 14.5998 0.761147 14.8857C0.761147 15.5413 1.48643 15.9667 2.33026 15.9667C3.29963 15.9667 3.96912 15.3181 3.96912 14.6207C3.96912 14.0768 3.52279 13.5328 2.75567 13.3724C3.48792 13.1074 3.75293 12.5844 3.75293 12.159C3.75293 11.608 3.11831 11.1966 2.34421 11.1966C1.57011 11.1966 0.977337 11.5732 0.977337 12.1311C0.977337 12.3682 1.13076 12.5007 1.33998 12.5007C1.55617 12.5007 1.69564 12.3403 1.69564 12.145C1.69564 11.9428 1.55617 11.7963 1.33998 11.7824C1.58406 11.4755 2.06526 11.3988 2.32329 11.3988C2.63711 11.3988 3.07646 11.5522 3.07646 12.159C3.07646 12.4519 2.97883 12.7727 2.79751 12.9889C2.56737 13.2539 2.37211 13.2678 2.02341 13.2887C1.84907 13.3027 1.83512 13.3027 1.80025 13.3097C1.7863 13.3097 1.73051 13.3236 1.73051 13.4003C1.73051 13.4979 1.79328 13.4979 1.91183 13.4979ZM1.91183 13.4979\" fill=\"black\"/>\n",
       "  <path d=\"M5.12292 18.7053M7.78295 14.9892L9.45667 14.9892C9.58618 14.9892 9.94484 14.9892 9.94484 14.6505C9.94484 14.4114 9.73562 14.4114 9.54633 14.4114L6.75679 14.4114C6.55754 14.4114 6.169 14.4114 5.73064 14.8797C5.40187 15.2383 5.12292 15.7165 5.12292 15.7763C5.12292 15.7863 5.12292 15.8759 5.24247 15.8759C5.32217 15.8759 5.3421 15.8361 5.40187 15.7564C5.89004 14.9892 6.45791 14.9892 6.66713 14.9892L7.49403 14.9892L6.51769 18.1872C6.47784 18.3068 6.41806 18.516 6.41806 18.5559C6.41806 18.6655 6.4878 18.8249 6.70698 18.8249C7.03575 18.8249 7.08556 18.5459 7.11545 18.3965ZM7.11545 18.3965\" fill=\"black\"/>\n",
       " </g>\n",
       " <g transform=\"matrix(1.000000,0.000000,0.000000,1.000000,79.370079,-0.000000)\">\n",
       "  <path d=\"M-16.4229 8.10962M-13.7729 6.46578L-13.7729 7.33253C-13.7729 7.69119 -13.7928 7.80078 -14.53 7.80078L-14.7392 7.80078L-14.7392 8.10962C-14.3308 8.07973 -13.8127 8.07973 -13.3943 8.07973C-12.9759 8.07973 -12.4478 8.07973 -12.0394 8.10962L-12.0394 7.80078L-12.2486 7.80078C-12.9858 7.80078 -13.0057 7.69119 -13.0057 7.33253L-13.0057 6.46578L-12.0095 6.46578L-12.0095 6.15694L-13.0057 6.15694L-13.0057 1.62394C-13.0057 1.42469 -13.0057 1.36491 -13.1651 1.36491C-13.2548 1.36491 -13.2847 1.36491 -13.3644 1.48446L-16.4229 6.15694L-16.4229 6.46578ZM-16.4229 6.46578M-13.7131 6.15694L-16.144 6.15694L-13.7131 2.44088ZM-13.7131 2.44088\" fill=\"black\"/>\n",
       "  <path d=\"M-11.1726 8.10962M-8.86127 1.30514C-8.86127 1.29517 -8.86127 1.19555 -8.99078 1.19555C-9.21992 1.19555 -9.94719 1.27525 -10.2062 1.29517C-10.2859 1.30514 -10.3955 1.3151 -10.3955 1.49443C-10.3955 1.61398 -10.3058 1.61398 -10.1564 1.61398C-9.6782 1.61398 -9.65828 1.68372 -9.65828 1.78334L-9.68817 1.9826L-11.1327 7.72108C-11.1726 7.86055 -11.1726 7.88048 -11.1726 7.94025C-11.1726 8.16939 -10.9733 8.21921 -10.8837 8.21921C-10.7243 8.21921 -10.5649 8.09966 -10.5151 7.96018L-10.3258 7.20302L-10.1066 6.30638C-10.0468 6.0872 -9.98704 5.86802 -9.93723 5.63888C-9.91731 5.57911 -9.8376 5.25034 -9.82764 5.19057C-9.79775 5.1009 -9.48891 4.54299 -9.15018 4.274C-8.931 4.1146 -8.62216 3.92531 -8.19377 3.92531C-7.76538 3.92531 -7.65579 4.26404 -7.65579 4.62269C-7.65579 5.16068 -8.03437 6.24661 -8.27347 6.85433C-8.35317 7.08347 -8.40298 7.20302 -8.40298 7.40227C-8.40298 7.87052 -8.05429 8.21921 -7.58605 8.21921C-6.64956 8.21921 -6.28094 6.76466 -6.28094 6.68496C-6.28094 6.58533 -6.37061 6.58533 -6.40049 6.58533C-6.50012 6.58533 -6.50012 6.61522 -6.54993 6.76466C-6.69937 7.29268 -7.01818 8.00003 -7.56612 8.00003C-7.73549 8.00003 -7.80523 7.9004 -7.80523 7.67126C-7.80523 7.4222 -7.71556 7.18309 -7.6259 6.96392C-7.4665 6.53552 -7.01818 5.34997 -7.01818 4.77213C-7.01818 4.12456 -7.41668 3.70613 -8.16388 3.70613C-8.79153 3.70613 -9.26973 4.01497 -9.63835 4.47326ZM-9.63835 4.47326\" fill=\"black\"/>\n",
       "  <path d=\"M-5.6039 4.49425M-4.07663 2.16499C-3.53267 2.16499 -3.14213 2.54158 -3.14213 3.28778C-3.14213 4.15254 -3.64425 4.41057 -4.04873 4.41057C-4.32769 4.41057 -4.94138 4.33386 -5.23429 3.9224C-4.90651 3.90845 -4.8298 3.67831 -4.8298 3.53186C-4.8298 3.3087 -4.99718 3.1483 -5.21336 3.1483C-5.40863 3.1483 -5.6039 3.26686 -5.6039 3.55279C-5.6039 4.20833 -4.87862 4.63373 -4.03478 4.63373C-3.06542 4.63373 -2.39593 3.98516 -2.39593 3.28778C-2.39593 2.74382 -2.84226 2.19986 -3.60938 2.03946C-2.87713 1.77445 -2.61212 1.25142 -2.61212 0.826011C-2.61212 0.275077 -3.24674 -0.13638 -4.02084 -0.13638C-4.79493 -0.13638 -5.38771 0.240208 -5.38771 0.798115C-5.38771 1.03523 -5.23429 1.16773 -5.02507 1.16773C-4.80888 1.16773 -4.6694 1.00733 -4.6694 0.812063C-4.6694 0.609822 -4.80888 0.463371 -5.02507 0.449423C-4.78099 0.142574 -4.29979 0.0658614 -4.04176 0.0658614C-3.72793 0.0658614 -3.28858 0.219286 -3.28858 0.826011C-3.28858 1.11891 -3.38622 1.43971 -3.56754 1.6559C-3.79767 1.92091 -3.99294 1.93485 -4.34163 1.95577C-4.51598 1.96972 -4.52993 1.96972 -4.5648 1.9767C-4.57874 1.9767 -4.63453 1.99064 -4.63453 2.06736C-4.63453 2.16499 -4.57177 2.16499 -4.45321 2.16499ZM-4.45321 2.16499\" fill=\"black\"/>\n",
       "  <path d=\"M-0.684219 8.10962M5.05426 5.81821C5.22363 5.81821 5.40295 5.81821 5.40295 5.61896C5.40295 5.41971 5.22363 5.41971 5.05426 5.41971L-0.335526 5.41971C-0.504891 5.41971 -0.684219 5.41971 -0.684219 5.61896C-0.684219 5.81821 -0.504891 5.81821 -0.335526 5.81821ZM-0.335526 5.81821\" fill=\"black\"/>\n",
       "  <path d=\"M6.65606 8.10962M9.12679 4.60277C9.94373 4.33378 10.5216 3.63639 10.5216 2.84934C10.5216 2.03241 9.64485 1.4745 8.68844 1.4745C7.68221 1.4745 6.92505 2.07226 6.92505 2.82942C6.92505 3.15819 7.14423 3.34748 7.43314 3.34748C7.74198 3.34748 7.94124 3.1283 7.94124 2.83938C7.94124 2.34125 7.47299 2.34125 7.32355 2.34125C7.6324 1.85308 8.28993 1.72357 8.64858 1.72357C9.05705 1.72357 9.605 1.94274 9.605 2.83938C9.605 2.95893 9.58507 3.53677 9.32604 3.97512C9.02716 4.45333 8.68844 4.48322 8.43937 4.49318C8.35967 4.50314 8.12056 4.52307 8.05083 4.52307C7.97113 4.53303 7.90139 4.54299 7.90139 4.64262C7.90139 4.75221 7.97113 4.75221 8.14049 4.75221L8.57885 4.75221C9.39578 4.75221 9.7644 5.42967 9.7644 6.40601C9.7644 7.76093 9.07698 8.04984 8.63862 8.04984C8.21023 8.04984 7.46303 7.88048 7.11434 7.29268C7.46303 7.3425 7.77187 7.12332 7.77187 6.74474C7.77187 6.38608 7.50288 6.18683 7.21396 6.18683C6.97486 6.18683 6.65606 6.32631 6.65606 6.76466C6.65606 7.67126 7.58258 8.3288 8.66851 8.3288C9.88395 8.3288 10.7906 7.4222 10.7906 6.40601C10.7906 5.58907 10.1629 4.81198 9.12679 4.60277ZM9.12679 4.60277\" fill=\"black\"/>\n",
       "  <path d=\"M11.488 8.10962M14.148 4.39355L15.8217 4.39355C15.9512 4.39355 16.3099 4.39355 16.3099 4.05482C16.3099 3.81572 16.1007 3.81572 15.9114 3.81572L13.1218 3.81572C12.9226 3.81572 12.534 3.81572 12.0957 4.28397C11.7669 4.64262 11.488 5.12083 11.488 5.1806C11.488 5.19057 11.488 5.28023 11.6075 5.28023C11.6872 5.28023 11.7071 5.24038 11.7669 5.16068C12.2551 4.39355 12.8229 4.39355 13.0322 4.39355L13.8591 4.39355L12.8827 7.59156C12.8429 7.71111 12.7831 7.92033 12.7831 7.96018C12.7831 8.06977 12.8528 8.22917 13.072 8.22917C13.4008 8.22917 13.4506 7.95022 13.4805 7.80078ZM13.4805 7.80078\" fill=\"black\"/>\n",
       "  <path d=\"M-16.7019 10.3709L16.7019 10.3709L16.7019 9.97238L-16.7019 9.97238Z\" fill=\"black\"/>\n",
       "  <path d=\"M-9.9184 18.7053M-8.71292 14.1524C-9.1712 13.8535 -9.21105 13.5148 -9.21105 13.3454C-9.21105 12.7377 -8.56348 12.3193 -7.85613 12.3193C-7.12886 12.3193 -6.49125 12.8373 -6.49125 13.5546C-6.49125 14.1225 -6.8798 14.6007 -7.47755 14.9494ZM-7.47755 14.9494M-7.25838 15.0988C-6.54107 14.7302 -6.0529 14.2122 -6.0529 13.5546C-6.0529 12.6381 -6.93957 12.0702 -7.84617 12.0702C-8.84244 12.0702 -9.64941 12.8074 -9.64941 13.7339C-9.64941 13.9133 -9.62948 14.3616 -9.21105 14.8298C-9.10146 14.9494 -8.73285 15.1985 -8.48378 15.3678C-9.06161 15.6567 -9.9184 16.2146 -9.9184 17.2009C-9.9184 18.257 -8.90221 18.9245 -7.85613 18.9245C-6.73036 18.9245 -5.78391 18.0976 -5.78391 17.0316C-5.78391 16.6729 -5.89349 16.2246 -6.27207 15.8062C-6.46136 15.597 -6.62077 15.4973 -7.25838 15.0988ZM-7.25838 15.0988M-8.25464 15.5173L-7.02924 16.2943C-6.75028 16.4836 -6.28204 16.7825 -6.28204 17.3902C-6.28204 18.1275 -7.02924 18.6455 -7.84617 18.6455C-8.70296 18.6455 -9.42027 18.0278 -9.42027 17.2009C-9.42027 16.6231 -9.10146 15.9855 -8.25464 15.5173ZM-8.25464 15.5173\" fill=\"black\"/>\n",
       "  <path d=\"M-4.80755 18.7053M-2.49622 11.9008C-2.49622 11.8909 -2.49622 11.7912 -2.62573 11.7912C-2.85487 11.7912 -3.58215 11.8709 -3.84118 11.8909C-3.92088 11.9008 -4.03047 11.9108 -4.03047 12.0901C-4.03047 12.2097 -3.9408 12.2097 -3.79136 12.2097C-3.31316 12.2097 -3.29323 12.2794 -3.29323 12.379L-3.32312 12.5783L-4.7677 18.3168C-4.80755 18.4562 -4.80755 18.4762 -4.80755 18.5359C-4.80755 18.7651 -4.6083 18.8149 -4.51863 18.8149C-4.35923 18.8149 -4.19983 18.6953 -4.15002 18.5559L-3.96073 17.7987L-3.74155 16.9021C-3.68177 16.6829 -3.622 16.4637 -3.57218 16.2346C-3.55226 16.1748 -3.47256 15.846 -3.4626 15.7863C-3.43271 15.6966 -3.12387 15.1387 -2.78514 14.8697C-2.56596 14.7103 -2.25712 14.521 -1.82872 14.521C-1.40033 14.521 -1.29074 14.8597 -1.29074 15.2184C-1.29074 15.7564 -1.66932 16.8423 -1.90842 17.45C-1.98812 17.6792 -2.03794 17.7987 -2.03794 17.998C-2.03794 18.4662 -1.68925 18.8149 -1.221 18.8149C-0.284513 18.8149 0.0841048 17.3604 0.0841048 17.2806C0.0841048 17.181 -0.00555899 17.181 -0.0354469 17.181C-0.135073 17.181 -0.135073 17.2109 -0.184887 17.3604C-0.334326 17.8884 -0.653131 18.5957 -1.20108 18.5957C-1.37044 18.5957 -1.44018 18.4961 -1.44018 18.267C-1.44018 18.0179 -1.35052 17.7788 -1.26085 17.5596C-1.10145 17.1312 -0.653131 15.9457 -0.653131 15.3678C-0.653131 14.7203 -1.05164 14.3018 -1.79883 14.3018C-2.42648 14.3018 -2.90469 14.6107 -3.2733 15.0689ZM-3.2733 15.0689\" fill=\"black\"/>\n",
       "  <path d=\"M0.761147 15.8272M2.28842 13.4979C2.83238 13.4979 3.22292 13.8745 3.22292 14.6207C3.22292 15.4855 2.7208 15.7435 2.31632 15.7435C2.03736 15.7435 1.42366 15.6668 1.13076 15.2554C1.45853 15.2414 1.53524 15.0113 1.53524 14.8648C1.53524 14.6417 1.36787 14.4813 1.15168 14.4813C0.956415 14.4813 0.761147 14.5998 0.761147 14.8857C0.761147 15.5413 1.48643 15.9667 2.33026 15.9667C3.29963 15.9667 3.96912 15.3181 3.96912 14.6207C3.96912 14.0768 3.52279 13.5328 2.75567 13.3724C3.48792 13.1074 3.75293 12.5844 3.75293 12.159C3.75293 11.608 3.11831 11.1966 2.34421 11.1966C1.57011 11.1966 0.977337 11.5732 0.977337 12.1311C0.977337 12.3682 1.13076 12.5007 1.33998 12.5007C1.55617 12.5007 1.69564 12.3403 1.69564 12.145C1.69564 11.9428 1.55617 11.7963 1.33998 11.7824C1.58406 11.4755 2.06526 11.3988 2.32329 11.3988C2.63711 11.3988 3.07646 11.5522 3.07646 12.159C3.07646 12.4519 2.97883 12.7727 2.79751 12.9889C2.56737 13.2539 2.37211 13.2678 2.02341 13.2887C1.84907 13.3027 1.83512 13.3027 1.80025 13.3097C1.7863 13.3097 1.73051 13.3236 1.73051 13.4003C1.73051 13.4979 1.79328 13.4979 1.91183 13.4979ZM1.91183 13.4979\" fill=\"black\"/>\n",
       "  <path d=\"M5.12292 18.7053M7.78295 14.9892L9.45667 14.9892C9.58618 14.9892 9.94484 14.9892 9.94484 14.6505C9.94484 14.4114 9.73562 14.4114 9.54633 14.4114L6.75679 14.4114C6.55754 14.4114 6.169 14.4114 5.73064 14.8797C5.40187 15.2383 5.12292 15.7165 5.12292 15.7763C5.12292 15.7863 5.12292 15.8759 5.24247 15.8759C5.32217 15.8759 5.3421 15.8361 5.40187 15.7564C5.89004 14.9892 6.45791 14.9892 6.66713 14.9892L7.49403 14.9892L6.51769 18.1872C6.47784 18.3068 6.41806 18.516 6.41806 18.5559C6.41806 18.6655 6.4878 18.8249 6.70698 18.8249C7.03575 18.8249 7.08556 18.5459 7.11545 18.3965ZM7.11545 18.3965\" fill=\"black\"/>\n",
       " </g>\n",
       " <g transform=\"matrix(1.000000,0.000000,0.000000,1.000000,0.000000,-0.000000)\">\n",
       "  <path d=\"M-1.60399 6.42037M0.438356 0.0442767C0.438356 -0.194827 0.438356 -0.214752 0.209215 -0.214752C-0.408468 0.422857 -1.28518 0.422857 -1.60399 0.422857L-1.60399 0.731699C-1.40473 0.731699 -0.816936 0.731699 -0.298879 0.47267L-0.298879 5.63332C-0.298879 5.99197 -0.328767 6.11152 -1.2254 6.11152L-1.54421 6.11152L-1.54421 6.42037C-1.19552 6.39048 -0.328767 6.39048 0.0697385 6.39048C0.468244 6.39048 1.33499 6.39048 1.68369 6.42037L1.68369 6.11152L1.36488 6.11152C0.468244 6.11152 0.438356 6.00194 0.438356 5.63332ZM0.438356 5.63332\" fill=\"black\"/>\n",
       "  <path d=\"M-7.59537 8.68162L7.59539 8.68162L7.59539 8.28313L-7.59537 8.28313Z\" fill=\"black\"/>\n",
       "  <path d=\"M-7.17694 17.0161M-5.97146 12.4631C-6.42974 12.1642 -6.46959 11.8255 -6.46959 11.6562C-6.46959 11.0484 -5.82202 10.63 -5.11468 10.63C-4.3874 10.63 -3.74979 11.1481 -3.74979 11.8654C-3.74979 12.4332 -4.13834 12.9114 -4.7361 13.2601ZM-4.7361 13.2601M-4.51692 13.4096C-3.79961 13.041 -3.31144 12.5229 -3.31144 11.8654C-3.31144 10.9488 -4.19811 10.3809 -5.10471 10.3809C-6.10098 10.3809 -6.90795 11.1182 -6.90795 12.0447C-6.90795 12.224 -6.88803 12.6723 -6.46959 13.1406C-6.36001 13.2601 -5.99139 13.5092 -5.74232 13.6786C-6.32016 13.9675 -7.17694 14.5254 -7.17694 15.5117C-7.17694 16.5677 -6.16075 17.2352 -5.11468 17.2352C-3.9889 17.2352 -3.04245 16.4083 -3.04245 15.3423C-3.04245 14.9837 -3.15204 14.5354 -3.53062 14.1169C-3.71991 13.9077 -3.87931 13.8081 -4.51692 13.4096ZM-4.51692 13.4096M-5.51318 13.828L-4.28778 14.6051C-4.00882 14.7944 -3.54058 15.0933 -3.54058 15.701C-3.54058 16.4382 -4.28778 16.9563 -5.10471 16.9563C-5.9615 16.9563 -6.67881 16.3386 -6.67881 15.5117C-6.67881 14.9339 -6.36001 14.2963 -5.51318 13.828ZM-5.51318 13.828\" fill=\"black\"/>\n",
       "  <path d=\"M-2.06609 17.0161M0.24524 10.2116C0.24524 10.2016 0.24524 10.102 0.115726 10.102C-0.113415 10.102 -0.840688 10.1817 -1.09972 10.2016C-1.17942 10.2116 -1.28901 10.2215 -1.28901 10.4009C-1.28901 10.5204 -1.19934 10.5204 -1.0499 10.5204C-0.571696 10.5204 -0.551771 10.5902 -0.551771 10.6898L-0.581659 10.889L-2.02624 16.6275C-2.06609 16.767 -2.06609 16.7869 -2.06609 16.8467C-2.06609 17.0758 -1.86684 17.1256 -1.77718 17.1256C-1.61777 17.1256 -1.45837 17.0061 -1.40856 16.8666L-1.21927 16.1095L-1.00009 15.2128C-0.940314 14.9936 -0.880538 14.7745 -0.830725 14.5453C-0.8108 14.4855 -0.731099 14.1568 -0.721136 14.097C-0.691248 14.0073 -0.382406 13.4494 -0.0436765 13.1804C0.175502 13.021 0.484343 12.8317 0.912737 12.8317C1.34113 12.8317 1.45072 13.1705 1.45072 13.5291C1.45072 14.0671 1.07214 15.153 0.833036 15.7608C0.753335 15.9899 0.703521 16.1095 0.703521 16.3087C0.703521 16.777 1.05221 17.1256 1.52046 17.1256C2.45695 17.1256 2.82556 15.6711 2.82556 15.5914C2.82556 15.4918 2.7359 15.4918 2.70601 15.4918C2.60639 15.4918 2.60639 15.5217 2.55657 15.6711C2.40713 16.1991 2.08833 16.9065 1.54038 16.9065C1.37102 16.9065 1.30128 16.8068 1.30128 16.5777C1.30128 16.3286 1.39094 16.0895 1.48061 15.8704C1.64001 15.442 2.08833 14.2564 2.08833 13.6786C2.08833 13.031 1.68982 12.6126 0.942625 12.6126C0.314978 12.6126 -0.163228 12.9214 -0.531846 13.3797ZM-0.531846 13.3797\" fill=\"black\"/>\n",
       "  <path d=\"M3.50261 14.138M5.02988 11.8087C5.57384 11.8087 5.96437 12.1853 5.96437 12.9315C5.96437 13.7962 5.46226 14.0543 5.05777 14.0543C4.77882 14.0543 4.16512 13.9776 3.87222 13.5661C4.19999 13.5522 4.2767 13.322 4.2767 13.1756C4.2767 12.9524 4.10933 12.792 3.89314 12.792C3.69787 12.792 3.50261 12.9106 3.50261 13.1965C3.50261 13.852 4.22789 14.2774 5.07172 14.2774C6.04109 14.2774 6.71058 13.6289 6.71058 12.9315C6.71058 12.3875 6.26425 11.8436 5.49713 11.6832C6.22938 11.4182 6.49439 10.8951 6.49439 10.4697C6.49439 9.91878 5.85977 9.50733 5.08567 9.50733C4.31157 9.50733 3.7188 9.88391 3.7188 10.4418C3.7188 10.6789 3.87222 10.8114 4.08144 10.8114C4.29762 10.8114 4.4371 10.651 4.4371 10.4558C4.4371 10.2535 4.29762 10.1071 4.08144 10.0931C4.32552 9.78628 4.80672 9.70957 5.06475 9.70957C5.37857 9.70957 5.81792 9.86299 5.81792 10.4697C5.81792 10.7626 5.72029 11.0834 5.53897 11.2996C5.30883 11.5646 5.11357 11.5786 4.76487 11.5995C4.59053 11.6134 4.57658 11.6134 4.54171 11.6204C4.52776 11.6204 4.47197 11.6344 4.47197 11.7111C4.47197 11.8087 4.53474 11.8087 4.65329 11.8087ZM4.65329 11.8087\" fill=\"black\"/>\n",
       " </g>\n",
       " <g transform=\"matrix(1.000000,0.000000,0.000000,1.000000,158.740157,-79.370079)\">\n",
       "  <path d=\"M-10.9446 12.0689M-2.68115 8.7693C-2.43727 8.7693 -2.17903 8.7693 -2.17903 8.48237C-2.17903 8.19545 -2.43727 8.19545 -2.68115 8.19545L-10.4424 8.19545C-10.6863 8.19545 -10.9446 8.19545 -10.9446 8.48237C-10.9446 8.7693 -10.6863 8.7693 -10.4424 8.7693ZM-10.4424 8.7693\" fill=\"black\"/>\n",
       "  <path d=\"M3.97511 6.42037M6.01746 0.0442767C6.01746 -0.194827 6.01746 -0.214752 5.78832 -0.214752C5.17063 0.422857 4.29392 0.422857 3.97511 0.422857L3.97511 0.731699C4.17437 0.731699 4.76216 0.731699 5.28022 0.47267L5.28022 5.63332C5.28022 5.99197 5.25033 6.11152 4.3537 6.11152L4.03489 6.11152L4.03489 6.42037C4.38358 6.39048 5.25033 6.39048 5.64884 6.39048C6.04734 6.39048 6.91409 6.39048 7.26279 6.42037L7.26279 6.11152L6.94398 6.11152C6.04734 6.11152 6.01746 6.00194 6.01746 5.63332ZM6.01746 5.63332\" fill=\"black\"/>\n",
       "  <path d=\"M0.218404 8.68162L10.9398 8.68162L10.9398 8.28313L0.218404 8.28313Z\" fill=\"black\"/>\n",
       "  <path d=\"M0.716536 17.0161M1.48366 16.2489L2.5397 15.2228C4.09387 13.8479 4.69163 13.31 4.69163 12.3137C4.69163 11.1779 3.79499 10.3809 2.57955 10.3809C1.45377 10.3809 0.716536 11.2975 0.716536 12.1842C0.716536 12.7421 1.21467 12.7421 1.24456 12.7421C1.41392 12.7421 1.76261 12.6225 1.76261 12.2141C1.76261 11.955 1.58329 11.696 1.23459 11.696C1.15489 11.696 1.13497 11.696 1.10508 11.706C1.33422 11.0584 1.8722 10.6898 2.45004 10.6898C3.35664 10.6898 3.78503 11.4968 3.78503 12.3137C3.78503 13.1107 3.2869 13.8977 2.73895 14.5154L0.826125 16.6474C0.716536 16.757 0.716536 16.777 0.716536 17.0161L4.41268 17.0161L4.69163 15.2826L4.44256 15.2826C4.39275 15.5814 4.32301 16.0198 4.22339 16.1692C4.15365 16.2489 3.49611 16.2489 3.27693 16.2489ZM3.27693 16.2489\" fill=\"black\"/>\n",
       "  <path d=\"M5.74768 17.0161M8.05902 10.2116C8.05902 10.2016 8.05902 10.102 7.9295 10.102C7.70036 10.102 6.97309 10.1817 6.71406 10.2016C6.63436 10.2116 6.52477 10.2215 6.52477 10.4009C6.52477 10.5204 6.61443 10.5204 6.76387 10.5204C7.24208 10.5204 7.26201 10.5902 7.26201 10.6898L7.23212 10.889L5.78754 16.6275C5.74768 16.767 5.74768 16.7869 5.74768 16.8467C5.74768 17.0758 5.94694 17.1256 6.0366 17.1256C6.196 17.1256 6.35541 17.0061 6.40522 16.8666L6.59451 16.1095L6.81369 15.2128C6.87346 14.9936 6.93324 14.7745 6.98305 14.5453C7.00298 14.4855 7.08268 14.1568 7.09264 14.097C7.12253 14.0073 7.43137 13.4494 7.7701 13.1804C7.98928 13.021 8.29812 12.8317 8.72651 12.8317C9.15491 12.8317 9.2645 13.1705 9.2645 13.5291C9.2645 14.0671 8.88592 15.153 8.64681 15.7608C8.56711 15.9899 8.5173 16.1095 8.5173 16.3087C8.5173 16.777 8.86599 17.1256 9.33423 17.1256C10.2707 17.1256 10.6393 15.6711 10.6393 15.5914C10.6393 15.4918 10.5497 15.4918 10.5198 15.4918C10.4202 15.4918 10.4202 15.5217 10.3703 15.6711C10.2209 16.1991 9.90211 16.9065 9.35416 16.9065C9.1848 16.9065 9.11506 16.8068 9.11506 16.5777C9.11506 16.3286 9.20472 16.0895 9.29438 15.8704C9.45379 15.442 9.90211 14.2564 9.90211 13.6786C9.90211 13.031 9.5036 12.6126 8.7564 12.6126C8.12876 12.6126 7.65055 12.9214 7.28193 13.3797ZM7.28193 13.3797\" fill=\"black\"/>\n",
       " </g>\n",
       " <g transform=\"matrix(1.000000,0.000000,0.000000,1.000000,79.370079,-79.370079)\">\n",
       "  <path d=\"M-1.60399 6.42037M0.438356 0.0442767C0.438356 -0.194827 0.438356 -0.214752 0.209215 -0.214752C-0.408468 0.422857 -1.28518 0.422857 -1.60399 0.422857L-1.60399 0.731699C-1.40473 0.731699 -0.816936 0.731699 -0.298879 0.47267L-0.298879 5.63332C-0.298879 5.99197 -0.328767 6.11152 -1.2254 6.11152L-1.54421 6.11152L-1.54421 6.42037C-1.19552 6.39048 -0.328767 6.39048 0.0697385 6.39048C0.468244 6.39048 1.33499 6.39048 1.68369 6.42037L1.68369 6.11152L1.36488 6.11152C0.468244 6.11152 0.438356 6.00194 0.438356 5.63332ZM0.438356 5.63332\" fill=\"black\"/>\n",
       "  <path d=\"M-5.3607 8.68162L5.3607 8.68162L5.3607 8.28313L-5.3607 8.28313Z\" fill=\"black\"/>\n",
       "  <path d=\"M-4.86256 17.0161M-4.09544 16.2489L-3.0394 15.2228C-1.48523 13.8479 -0.88747 13.31 -0.88747 12.3137C-0.88747 11.1779 -1.78411 10.3809 -2.99955 10.3809C-4.12533 10.3809 -4.86256 11.2975 -4.86256 12.1842C-4.86256 12.7421 -4.36443 12.7421 -4.33454 12.7421C-4.16518 12.7421 -3.81649 12.6225 -3.81649 12.2141C-3.81649 11.955 -3.99581 11.696 -4.34451 11.696C-4.42421 11.696 -4.44413 11.696 -4.47402 11.706C-4.24488 11.0584 -3.7069 10.6898 -3.12906 10.6898C-2.22246 10.6898 -1.79407 11.4968 -1.79407 12.3137C-1.79407 13.1107 -2.2922 13.8977 -2.84015 14.5154L-4.75297 16.6474C-4.86256 16.757 -4.86256 16.777 -4.86256 17.0161L-1.16642 17.0161L-0.88747 15.2826L-1.13654 15.2826C-1.18635 15.5814 -1.25609 16.0198 -1.35571 16.1692C-1.42545 16.2489 -2.08299 16.2489 -2.30217 16.2489ZM-2.30217 16.2489\" fill=\"black\"/>\n",
       "  <path d=\"M0.168585 17.0161M2.47992 10.2116C2.47992 10.2016 2.47992 10.102 2.3504 10.102C2.12126 10.102 1.39399 10.1817 1.13496 10.2016C1.05526 10.2116 0.945671 10.2215 0.945671 10.4009C0.945671 10.5204 1.03533 10.5204 1.18477 10.5204C1.66298 10.5204 1.68291 10.5902 1.68291 10.6898L1.65302 10.889L0.208435 16.6275C0.168585 16.767 0.168585 16.7869 0.168585 16.8467C0.168585 17.0758 0.367838 17.1256 0.457501 17.1256C0.616904 17.1256 0.776306 17.0061 0.826119 16.8666L1.01541 16.1095L1.23459 15.2128C1.29436 14.9936 1.35414 14.7745 1.40395 14.5453C1.42388 14.4855 1.50358 14.1568 1.51354 14.097C1.54343 14.0073 1.85227 13.4494 2.191 13.1804C2.41018 13.021 2.71902 12.8317 3.14741 12.8317C3.57581 12.8317 3.6854 13.1705 3.6854 13.5291C3.6854 14.0671 3.30682 15.153 3.06771 15.7608C2.98801 15.9899 2.9382 16.1095 2.9382 16.3087C2.9382 16.777 3.28689 17.1256 3.75514 17.1256C4.69162 17.1256 5.06024 15.6711 5.06024 15.5914C5.06024 15.4918 4.97058 15.4918 4.94069 15.4918C4.84106 15.4918 4.84106 15.5217 4.79125 15.6711C4.64181 16.1991 4.32301 16.9065 3.77506 16.9065C3.6057 16.9065 3.53596 16.8068 3.53596 16.5777C3.53596 16.3286 3.62562 16.0895 3.71528 15.8704C3.87469 15.442 4.32301 14.2564 4.32301 13.6786C4.32301 13.031 3.9245 12.6126 3.1773 12.6126C2.54966 12.6126 2.07145 12.9214 1.70283 13.3797ZM1.70283 13.3797\" fill=\"black\"/>\n",
       " </g>\n",
       " <path d=\"M0 -49.6063L238.11 -49.6063\" stroke=\"black\"/>\n",
       "</svg>\n"
      ],
      "text/plain": [
       "<pyx.canvas.canvas at 0x7f0cc1072790>"
      ]
     },
     "metadata": {},
     "output_type": "display_data"
    }
   ],
   "source": [
    "for w in KDV[-2].GB():\n",
    "    print(w.poly/(8*h**3))\n",
    "    display((sum(Symbol(m.T_latex())*c for m, c in w.poly)/(8*h**3)).expand().collect([tau, h]))\n",
    "    \n",
    "    frm, l = [pyx.text.halign.boxcenter, pyx.text.valign.top], 1.4\n",
    "    pyx.unit.set(wscale=1)\n",
    "    pyx.text.set(pyx.text.LatexEngine)\n",
    "\n",
    "    canvas = pyx.canvas.canvas()\n",
    "    for m, c in w.poly:\n",
    "        if m.position() == 5:\n",
    "            canvas.text(m[1]*l, m[0]*l, fr\"\\Large${sympy.latex(sympy.cancel(c/(8*h**3)))}$\", frm)\n",
    "        if m.position() == 6:\n",
    "            canvas.text(m[1]*l, m[0]*l+2*l, fr\"\\Large${sympy.latex(sympy.cancel(c/(8*h**3)))}$\", frm)\n",
    "    canvas.stroke(pyx.path.line(0, l*1.25, 6*l, l*1.25))\n",
    "    display(canvas)"
   ]
  },
  {
   "cell_type": "code",
   "execution_count": null,
   "id": "f442e223",
   "metadata": {},
   "outputs": [],
   "source": []
  }
 ],
 "metadata": {
  "kernelspec": {
   "display_name": "Python 3 (ipykernel)",
   "language": "python",
   "name": "python3"
  },
  "language_info": {
   "codemirror_mode": {
    "name": "ipython",
    "version": 3
   },
   "file_extension": ".py",
   "mimetype": "text/x-python",
   "name": "python",
   "nbconvert_exporter": "python",
   "pygments_lexer": "ipython3",
   "version": "3.11.2"
  }
 },
 "nbformat": 4,
 "nbformat_minor": 5
}
